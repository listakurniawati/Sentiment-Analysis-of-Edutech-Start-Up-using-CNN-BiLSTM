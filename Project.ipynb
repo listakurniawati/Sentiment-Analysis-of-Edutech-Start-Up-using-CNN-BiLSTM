{
  "nbformat": 4,
  "nbformat_minor": 0,
  "metadata": {
    "colab": {
      "name": "[3] Project Web Mining.ipynb",
      "provenance": [],
      "collapsed_sections": [
        "vtwDcAI7p-2w",
        "I3oI9nRiskIz"
      ],
      "include_colab_link": true
    },
    "kernelspec": {
      "name": "python3",
      "display_name": "Python 3"
    },
    "language_info": {
      "name": "python"
    }
  },
  "cells": [
    {
      "cell_type": "markdown",
      "metadata": {
        "id": "view-in-github",
        "colab_type": "text"
      },
      "source": [
        "<a href=\"https://colab.research.google.com/github/listakurniawati/Sentiment-Analysis-of-Edutech-Start-Up-using-CNN-BiLSTM/blob/main/Project.ipynb\" target=\"_parent\"><img src=\"https://colab.research.google.com/assets/colab-badge.svg\" alt=\"Open In Colab\"/></a>"
      ]
    },
    {
      "cell_type": "code",
      "metadata": {
        "id": "HKzeW_12-K3I"
      },
      "source": [
        "import numpy as np\n",
        "import pandas as pd\n",
        "import re\n",
        "import tensorflow as tf\n",
        "import keras\n",
        "from sklearn.model_selection import train_test_split\n",
        "from keras.layers import Bidirectional, LSTM\n",
        "from keras.models import Sequential\n",
        "from keras.preprocessing import text\n",
        "from sklearn.svm import SVC\n",
        "from sklearn import metrics\n",
        "from sklearn.metrics import confusion_matrix, ConfusionMatrixDisplay\n",
        "import matplotlib.pyplot as plt"
      ],
      "execution_count": null,
      "outputs": []
    },
    {
      "cell_type": "markdown",
      "metadata": {
        "id": "EtPf_tq58On8"
      },
      "source": [
        "# **Upload Data**"
      ]
    },
    {
      "cell_type": "code",
      "metadata": {
        "id": "3TUG0FYF8N9I"
      },
      "source": [
        "quipper_df = pd.read_csv('https://raw.githubusercontent.com/Syamsyuriani/Scrapping_Data/main/Quipper-Data_labelled.csv')"
      ],
      "execution_count": null,
      "outputs": []
    },
    {
      "cell_type": "code",
      "metadata": {
        "colab": {
          "base_uri": "https://localhost:8080/"
        },
        "id": "OnrRJAkwQd2S",
        "outputId": "026a2c32-a612-458e-fb63-10a938d62033"
      },
      "source": [
        "quipper_df.columns"
      ],
      "execution_count": null,
      "outputs": [
        {
          "output_type": "execute_result",
          "data": {
            "text/plain": [
              "Index(['review', 'label', 'Unnamed: 2', 'Unnamed: 3'], dtype='object')"
            ]
          },
          "metadata": {
            "tags": []
          },
          "execution_count": 26
        }
      ]
    },
    {
      "cell_type": "code",
      "metadata": {
        "colab": {
          "base_uri": "https://localhost:8080/",
          "height": 419
        },
        "id": "kBp4zeUau8ce",
        "outputId": "24ee2a58-09c3-4681-a6aa-43dd70e4a66d"
      },
      "source": [
        "review = quipper_df.drop(columns=['Unnamed: 2', 'Unnamed: 3'])\n",
        "review"
      ],
      "execution_count": null,
      "outputs": [
        {
          "output_type": "execute_result",
          "data": {
            "text/html": [
              "<div>\n",
              "<style scoped>\n",
              "    .dataframe tbody tr th:only-of-type {\n",
              "        vertical-align: middle;\n",
              "    }\n",
              "\n",
              "    .dataframe tbody tr th {\n",
              "        vertical-align: top;\n",
              "    }\n",
              "\n",
              "    .dataframe thead th {\n",
              "        text-align: right;\n",
              "    }\n",
              "</style>\n",
              "<table border=\"1\" class=\"dataframe\">\n",
              "  <thead>\n",
              "    <tr style=\"text-align: right;\">\n",
              "      <th></th>\n",
              "      <th>review</th>\n",
              "      <th>label</th>\n",
              "    </tr>\n",
              "  </thead>\n",
              "  <tbody>\n",
              "    <tr>\n",
              "      <th>0</th>\n",
              "      <td>Apk Quipper sangat membantu dalam memahami pel...</td>\n",
              "      <td>-1</td>\n",
              "    </tr>\n",
              "    <tr>\n",
              "      <th>1</th>\n",
              "      <td>Penjelasannya bagus, tutornya juga enak ngejel...</td>\n",
              "      <td>-1</td>\n",
              "    </tr>\n",
              "    <tr>\n",
              "      <th>2</th>\n",
              "      <td>Tolong dong quipper, saya lagi ngerjain soal a...</td>\n",
              "      <td>-1</td>\n",
              "    </tr>\n",
              "    <tr>\n",
              "      <th>3</th>\n",
              "      <td>Banyak bug. klo matematika, fisika, kimia ,Jaw...</td>\n",
              "      <td>-1</td>\n",
              "    </tr>\n",
              "    <tr>\n",
              "      <th>4</th>\n",
              "      <td>Aplikasinya kurang menarik, pembahasan nya lam...</td>\n",
              "      <td>-1</td>\n",
              "    </tr>\n",
              "    <tr>\n",
              "      <th>...</th>\n",
              "      <td>...</td>\n",
              "      <td>...</td>\n",
              "    </tr>\n",
              "    <tr>\n",
              "      <th>6074</th>\n",
              "      <td>Gimana cara masukin soal?</td>\n",
              "      <td>-1</td>\n",
              "    </tr>\n",
              "    <tr>\n",
              "      <th>6075</th>\n",
              "      <td>Amit jangan donwlod nyesel</td>\n",
              "      <td>-1</td>\n",
              "    </tr>\n",
              "    <tr>\n",
              "      <th>6076</th>\n",
              "      <td>cari kode kelasnya dimanaaa..</td>\n",
              "      <td>-1</td>\n",
              "    </tr>\n",
              "    <tr>\n",
              "      <th>6077</th>\n",
              "      <td>Harus bayar paketnya</td>\n",
              "      <td>-1</td>\n",
              "    </tr>\n",
              "    <tr>\n",
              "      <th>6078</th>\n",
              "      <td>Cara nya bagaimana ya?</td>\n",
              "      <td>-1</td>\n",
              "    </tr>\n",
              "  </tbody>\n",
              "</table>\n",
              "<p>6079 rows × 2 columns</p>\n",
              "</div>"
            ],
            "text/plain": [
              "                                                 review  label\n",
              "0     Apk Quipper sangat membantu dalam memahami pel...     -1\n",
              "1     Penjelasannya bagus, tutornya juga enak ngejel...     -1\n",
              "2     Tolong dong quipper, saya lagi ngerjain soal a...     -1\n",
              "3     Banyak bug. klo matematika, fisika, kimia ,Jaw...     -1\n",
              "4     Aplikasinya kurang menarik, pembahasan nya lam...     -1\n",
              "...                                                 ...    ...\n",
              "6074                          Gimana cara masukin soal?     -1\n",
              "6075                         Amit jangan donwlod nyesel     -1\n",
              "6076                      cari kode kelasnya dimanaaa..     -1\n",
              "6077                               Harus bayar paketnya     -1\n",
              "6078                             Cara nya bagaimana ya?     -1\n",
              "\n",
              "[6079 rows x 2 columns]"
            ]
          },
          "metadata": {
            "tags": []
          },
          "execution_count": 27
        }
      ]
    },
    {
      "cell_type": "code",
      "metadata": {
        "colab": {
          "base_uri": "https://localhost:8080/",
          "height": 419
        },
        "id": "QDGV8CGCAtcm",
        "outputId": "3e38fbd8-2d38-4fd9-f20e-b8f3d912a58d"
      },
      "source": [
        "# Menghapus duplikat\n",
        "dt = review.drop_duplicates(subset=['review'], keep='last', inplace=False).reset_index()\n",
        "df = dt.drop(['index'], axis=1)\n",
        "df"
      ],
      "execution_count": null,
      "outputs": [
        {
          "output_type": "execute_result",
          "data": {
            "text/html": [
              "<div>\n",
              "<style scoped>\n",
              "    .dataframe tbody tr th:only-of-type {\n",
              "        vertical-align: middle;\n",
              "    }\n",
              "\n",
              "    .dataframe tbody tr th {\n",
              "        vertical-align: top;\n",
              "    }\n",
              "\n",
              "    .dataframe thead th {\n",
              "        text-align: right;\n",
              "    }\n",
              "</style>\n",
              "<table border=\"1\" class=\"dataframe\">\n",
              "  <thead>\n",
              "    <tr style=\"text-align: right;\">\n",
              "      <th></th>\n",
              "      <th>review</th>\n",
              "      <th>label</th>\n",
              "    </tr>\n",
              "  </thead>\n",
              "  <tbody>\n",
              "    <tr>\n",
              "      <th>0</th>\n",
              "      <td>Apk Quipper sangat membantu dalam memahami pel...</td>\n",
              "      <td>-1</td>\n",
              "    </tr>\n",
              "    <tr>\n",
              "      <th>1</th>\n",
              "      <td>Penjelasannya bagus, tutornya juga enak ngejel...</td>\n",
              "      <td>-1</td>\n",
              "    </tr>\n",
              "    <tr>\n",
              "      <th>2</th>\n",
              "      <td>Tolong dong quipper, saya lagi ngerjain soal a...</td>\n",
              "      <td>-1</td>\n",
              "    </tr>\n",
              "    <tr>\n",
              "      <th>3</th>\n",
              "      <td>Banyak bug. klo matematika, fisika, kimia ,Jaw...</td>\n",
              "      <td>-1</td>\n",
              "    </tr>\n",
              "    <tr>\n",
              "      <th>4</th>\n",
              "      <td>Aplikasinya kurang menarik, pembahasan nya lam...</td>\n",
              "      <td>-1</td>\n",
              "    </tr>\n",
              "    <tr>\n",
              "      <th>...</th>\n",
              "      <td>...</td>\n",
              "      <td>...</td>\n",
              "    </tr>\n",
              "    <tr>\n",
              "      <th>4682</th>\n",
              "      <td>Gimana cara masukin soal?</td>\n",
              "      <td>-1</td>\n",
              "    </tr>\n",
              "    <tr>\n",
              "      <th>4683</th>\n",
              "      <td>Amit jangan donwlod nyesel</td>\n",
              "      <td>-1</td>\n",
              "    </tr>\n",
              "    <tr>\n",
              "      <th>4684</th>\n",
              "      <td>cari kode kelasnya dimanaaa..</td>\n",
              "      <td>-1</td>\n",
              "    </tr>\n",
              "    <tr>\n",
              "      <th>4685</th>\n",
              "      <td>Harus bayar paketnya</td>\n",
              "      <td>-1</td>\n",
              "    </tr>\n",
              "    <tr>\n",
              "      <th>4686</th>\n",
              "      <td>Cara nya bagaimana ya?</td>\n",
              "      <td>-1</td>\n",
              "    </tr>\n",
              "  </tbody>\n",
              "</table>\n",
              "<p>4687 rows × 2 columns</p>\n",
              "</div>"
            ],
            "text/plain": [
              "                                                 review  label\n",
              "0     Apk Quipper sangat membantu dalam memahami pel...     -1\n",
              "1     Penjelasannya bagus, tutornya juga enak ngejel...     -1\n",
              "2     Tolong dong quipper, saya lagi ngerjain soal a...     -1\n",
              "3     Banyak bug. klo matematika, fisika, kimia ,Jaw...     -1\n",
              "4     Aplikasinya kurang menarik, pembahasan nya lam...     -1\n",
              "...                                                 ...    ...\n",
              "4682                          Gimana cara masukin soal?     -1\n",
              "4683                         Amit jangan donwlod nyesel     -1\n",
              "4684                      cari kode kelasnya dimanaaa..     -1\n",
              "4685                               Harus bayar paketnya     -1\n",
              "4686                             Cara nya bagaimana ya?     -1\n",
              "\n",
              "[4687 rows x 2 columns]"
            ]
          },
          "metadata": {
            "tags": []
          },
          "execution_count": 28
        }
      ]
    },
    {
      "cell_type": "code",
      "metadata": {
        "id": "QrwznBzTIVY5"
      },
      "source": [
        "negative = df[df['label']==-1].count()[0]\n",
        "positive = df[df['label']==1].count()[0]"
      ],
      "execution_count": null,
      "outputs": []
    },
    {
      "cell_type": "code",
      "metadata": {
        "colab": {
          "base_uri": "https://localhost:8080/",
          "height": 295
        },
        "id": "TP8hDNYUEwyA",
        "outputId": "b954f462-d174-471b-eac7-4245d1d1694b"
      },
      "source": [
        "labels = ['Positive','Negative']\n",
        "Category1 = [str(positive),str(negative)]\n",
        "plt.pie(Category1, labels=labels, autopct='%1.2f%%', colors=['coral', 'c'])\n",
        "plt.xlabel('Kelas Sentimen')\n",
        "plt.ylabel('Data')\n",
        "plt.title('Diagram Lingkaran Data Analisis Sentimen')"
      ],
      "execution_count": null,
      "outputs": [
        {
          "output_type": "execute_result",
          "data": {
            "text/plain": [
              "Text(0.5, 1.0, 'Diagram Lingkaran Data Analisis Sentimen')"
            ]
          },
          "metadata": {
            "tags": []
          },
          "execution_count": 30
        },
        {
          "output_type": "display_data",
          "data": {
            "image/png": "[encoded data removed]",
            "text/plain": [
              "<Figure size 432x288 with 1 Axes>"
            ]
          },
          "metadata": {
            "tags": []
          }
        }
      ]
    },
    {
      "cell_type": "code",
      "metadata": {
        "colab": {
          "base_uri": "https://localhost:8080/",
          "height": 312
        },
        "id": "e0YTMPkYIpUR",
        "outputId": "951204a7-5a21-4372-f402-ff09fe632ad7"
      },
      "source": [
        "labels = ['Positive','Negative']\n",
        "Category1 = [positive, negative]\n",
        "plt.bar(labels, Category1, tick_label=labels, width=0.5, color=['coral', 'c'])\n",
        "plt.xlabel('Kelas Sentimen')\n",
        "plt.ylabel('Data')\n",
        "plt.title('Diagram Bar Data Analisis Sentimen')"
      ],
      "execution_count": null,
      "outputs": [
        {
          "output_type": "execute_result",
          "data": {
            "text/plain": [
              "Text(0.5, 1.0, 'Diagram Bar Data Analisis Sentimen')"
            ]
          },
          "metadata": {
            "tags": []
          },
          "execution_count": 31
        },
        {
          "output_type": "display_data",
          "data": {
            "image/png": "[encoded data removed]",
            "text/plain": [
              "<Figure size 432x288 with 1 Axes>"
            ]
          },
          "metadata": {
            "tags": [],
            "needs_background": "light"
          }
        }
      ]
    },
    {
      "cell_type": "markdown",
      "metadata": {
        "id": "vtwDcAI7p-2w"
      },
      "source": [
        "# ***Pre-processing***"
      ]
    },
    {
      "cell_type": "code",
      "metadata": {
        "id": "t3z8tm6dtP25"
      },
      "source": [
        "#PEMBERSIHAN(CLEANING DATA)\n",
        "stopwords = pd.read_csv(\"https://raw.githubusercontent.com/listakurniawati/COVID-19-With-SVM/main/stopwords_id.csv?token=ARCQD7EZ55J4TUTAWYYLYOTAX3FTW\")\n",
        "stopwords = np.append(stopwords, \"rt\")\n",
        " \n",
        "def clean_text(tweet):\n",
        " \n",
        "    # Convert to lower case\n",
        "    tweet = tweet.lower()\n",
        "    # Clean www.* or https?://*\n",
        "    tweet = re.sub('((www\\.[^\\s]+)|(https?://[^\\s]+))','',tweet)\n",
        "    # Clean @username\n",
        "    tweet = re.sub('@[^\\s]+','',tweet)\n",
        "    #Remove punctuation\n",
        "    tweet = re.sub(r'[^\\w\\s]',' ', tweet)\n",
        "    #Replace #word with word\n",
        "    tweet = re.sub(r'#([^\\s]+)', r'\\1', tweet)\n",
        "    #Remove punctuation\n",
        "    tweet = re.sub(r'[^\\w\\s]',' ', tweet)\n",
        "    #Clean number\n",
        "    tweet = re.sub(r'[\\d-]', '', tweet)\n",
        "    #Remove additional white spaces\n",
        "    tweet = re.sub('[\\s]+', ' ', tweet)\n",
        "    #trim\n",
        "    tweet = tweet.strip('\\'\"')\n",
        "    # Clean per Words\n",
        "    words = tweet.split()\n",
        "    tokens=[]\n",
        "    for ww in words:\n",
        "        #split repeated word\n",
        "        for w in re.split(r'[-/\\s]\\s*', ww):\n",
        "            #replace two or more with two occurrences\n",
        "            pattern = re.compile(r\"(.)\\1{1,}\", re.DOTALL)\n",
        "            w = pattern.sub(r\"\\1\\1\", w)\n",
        "            #strip punctuation\n",
        "            w = w.strip('\\'\"?,.')\n",
        "            #check if the word cosists of two or more alphabets\n",
        "            val = re.search(r\"^[a-zA-Z][a-zA-Z][a-zA-Z]*$\", w)\n",
        "            #add tokens\n",
        "            if(w in stopwords or val is None):\n",
        "                continue\n",
        "            else:\n",
        "                tokens.append(w.lower())\n",
        "    \n",
        "    tweet = \" \".join(tokens)\n",
        "    return tweet"
      ],
      "execution_count": null,
      "outputs": []
    },
    {
      "cell_type": "code",
      "metadata": {
        "id": "xqSK03knf2k-"
      },
      "source": [
        "df['label'] = df['label'].replace(-1,0)"
      ],
      "execution_count": null,
      "outputs": []
    },
    {
      "cell_type": "code",
      "metadata": {
        "colab": {
          "base_uri": "https://localhost:8080/"
        },
        "id": "ly4Xr6edIjj9",
        "outputId": "de878b64-9c04-4844-b167-4d83ca5c28cc"
      },
      "source": [
        "df['review'] = df['review'].map(lambda x: clean_text(x))\n",
        "df = df[df['review'].apply(lambda x: len(x.split()) >=1)]\n",
        "df"
      ],
      "execution_count": null,
      "outputs": [
        {
          "output_type": "execute_result",
          "data": {
            "text/html": [
              "<div>\n",
              "<style scoped>\n",
              "    .dataframe tbody tr th:only-of-type {\n",
              "        vertical-align: middle;\n",
              "    }\n",
              "\n",
              "    .dataframe tbody tr th {\n",
              "        vertical-align: top;\n",
              "    }\n",
              "\n",
              "    .dataframe thead th {\n",
              "        text-align: right;\n",
              "    }\n",
              "</style>\n",
              "<table border=\"1\" class=\"dataframe\">\n",
              "  <thead>\n",
              "    <tr style=\"text-align: right;\">\n",
              "      <th></th>\n",
              "      <th>review</th>\n",
              "      <th>label</th>\n",
              "    </tr>\n",
              "  </thead>\n",
              "  <tbody>\n",
              "    <tr>\n",
              "      <th>0</th>\n",
              "      <td>apk quipper membantu memahami pelajaran solusi...</td>\n",
              "      <td>0</td>\n",
              "    </tr>\n",
              "    <tr>\n",
              "      <th>1</th>\n",
              "      <td>penjelasannya bagus tutornya enak ngejelasinny...</td>\n",
              "      <td>0</td>\n",
              "    </tr>\n",
              "    <tr>\n",
              "      <th>2</th>\n",
              "      <td>tolong quipper ngerjain tryout aplikasi koneks...</td>\n",
              "      <td>0</td>\n",
              "    </tr>\n",
              "    <tr>\n",
              "      <th>3</th>\n",
              "      <td>bug klo matematika fisika kimia fail loaded</td>\n",
              "      <td>0</td>\n",
              "    </tr>\n",
              "    <tr>\n",
              "      <th>4</th>\n",
              "      <td>aplikasinya menarik pembahasan nya banget gak ...</td>\n",
              "      <td>0</td>\n",
              "    </tr>\n",
              "    <tr>\n",
              "      <th>...</th>\n",
              "      <td>...</td>\n",
              "      <td>...</td>\n",
              "    </tr>\n",
              "    <tr>\n",
              "      <th>4682</th>\n",
              "      <td>gimana masukin</td>\n",
              "      <td>0</td>\n",
              "    </tr>\n",
              "    <tr>\n",
              "      <th>4683</th>\n",
              "      <td>amit donwlod nyesel</td>\n",
              "      <td>0</td>\n",
              "    </tr>\n",
              "    <tr>\n",
              "      <th>4684</th>\n",
              "      <td>cari kode kelasnya dimanaa</td>\n",
              "      <td>0</td>\n",
              "    </tr>\n",
              "    <tr>\n",
              "      <th>4685</th>\n",
              "      <td>bayar paketnya</td>\n",
              "      <td>0</td>\n",
              "    </tr>\n",
              "    <tr>\n",
              "      <th>4686</th>\n",
              "      <td>nya ya</td>\n",
              "      <td>0</td>\n",
              "    </tr>\n",
              "  </tbody>\n",
              "</table>\n",
              "<p>4654 rows × 2 columns</p>\n",
              "</div>"
            ],
            "text/plain": [
              "                                                 review  label\n",
              "0     apk quipper membantu memahami pelajaran solusi...      0\n",
              "1     penjelasannya bagus tutornya enak ngejelasinny...      0\n",
              "2     tolong quipper ngerjain tryout aplikasi koneks...      0\n",
              "3           bug klo matematika fisika kimia fail loaded      0\n",
              "4     aplikasinya menarik pembahasan nya banget gak ...      0\n",
              "...                                                 ...    ...\n",
              "4682                                     gimana masukin      0\n",
              "4683                                amit donwlod nyesel      0\n",
              "4684                         cari kode kelasnya dimanaa      0\n",
              "4685                                     bayar paketnya      0\n",
              "4686                                             nya ya      0\n",
              "\n",
              "[4654 rows x 2 columns]"
            ]
          },
          "metadata": {
            "tags": []
          },
          "execution_count": 11
        }
      ]
    },
    {
      "cell_type": "code",
      "metadata": {
        "id": "cFxQeILgx-LG"
      },
      "source": [
        "#tokenisasi\n",
        "tokenizer = keras.preprocessing.text.Tokenizer()\n",
        "tokenizer.fit_on_texts(df['review'])"
      ],
      "execution_count": null,
      "outputs": []
    },
    {
      "cell_type": "code",
      "metadata": {
        "id": "-bOtaFuL0LQH"
      },
      "source": [
        "sequences = tokenizer.texts_to_sequences(df['review'])\n",
        "x = keras.preprocessing.sequence.pad_sequences(sequences, maxlen=80)\n",
        "y = np.array((df['label']))"
      ],
      "execution_count": null,
      "outputs": []
    },
    {
      "cell_type": "code",
      "metadata": {
        "id": "ZimFJmjoLvCq"
      },
      "source": [
        "x_train, x_test, y_train, y_test = train_test_split(x,y, test_size = 0.2, random_state = 42)"
      ],
      "execution_count": null,
      "outputs": []
    },
    {
      "cell_type": "code",
      "metadata": {
        "colab": {
          "base_uri": "https://localhost:8080/"
        },
        "id": "DPXkGwkOceme",
        "outputId": "469e1d40-6962-4105-c68b-c8adaece0792"
      },
      "source": [
        "seq_length = x.shape[1]\n",
        "print(seq_length)\n",
        "vocab_size = len(tokenizer.index_word) + 1\n",
        "print(vocab_size)"
      ],
      "execution_count": null,
      "outputs": [
        {
          "output_type": "stream",
          "text": [
            "80\n",
            "5615\n"
          ],
          "name": "stdout"
        }
      ]
    },
    {
      "cell_type": "markdown",
      "metadata": {
        "id": "5zf9tuYrO98G"
      },
      "source": [
        "# **Model CNN BiLSTM**"
      ]
    },
    {
      "cell_type": "code",
      "metadata": {
        "colab": {
          "base_uri": "https://localhost:8080/"
        },
        "id": "SD72jUanJe2Y",
        "outputId": "60152558-d531-4c1b-c318-694ca3fb2db6"
      },
      "source": [
        "pip install -q -U keras-tuner"
      ],
      "execution_count": null,
      "outputs": [
        {
          "output_type": "stream",
          "text": [
            "\u001b[?25l\r\u001b[K     |███▍                            | 10kB 14.4MB/s eta 0:00:01\r\u001b[K     |██████▉                         | 20kB 20.2MB/s eta 0:00:01\r\u001b[K     |██████████▏                     | 30kB 25.3MB/s eta 0:00:01\r\u001b[K     |█████████████▋                  | 40kB 22.4MB/s eta 0:00:01\r\u001b[K     |█████████████████               | 51kB 17.6MB/s eta 0:00:01\r\u001b[K     |████████████████████▍           | 61kB 13.2MB/s eta 0:00:01\r\u001b[K     |███████████████████████▊        | 71kB 11.8MB/s eta 0:00:01\r\u001b[K     |███████████████████████████▏    | 81kB 12.7MB/s eta 0:00:01\r\u001b[K     |██████████████████████████████▋ | 92kB 13.6MB/s eta 0:00:01\r\u001b[K     |████████████████████████████████| 102kB 4.8MB/s \n",
            "\u001b[?25h  Building wheel for kt-legacy (setup.py) ... \u001b[?25l\u001b[?25hdone\n"
          ],
          "name": "stdout"
        }
      ]
    },
    {
      "cell_type": "code",
      "metadata": {
        "id": "dCtMUJeJ-rji",
        "colab": {
          "base_uri": "https://localhost:8080/"
        },
        "outputId": "5cc175f3-2227-4350-ba22-0c1c86dd05c2"
      },
      "source": [
        "from tensorflow import keras\n",
        "from kerastuner.tuners import BayesianOptimization\n",
        " \n",
        "def cnn_bilstm(hp):\n",
        " \n",
        "    ### Arsitektur\n",
        " \n",
        "    #Input layer\n",
        "    inputs = keras.layers.Input(shape=(seq_length,))\n",
        " \n",
        "    #Embedding\n",
        "    embedding = keras.layers.Embedding(input_dim = vocab_size,\n",
        "                                       output_dim = hp.Choice('embedding_size', values = [64, 100, 128]))(inputs)\n",
        " \n",
        "    #Convolution layer\n",
        "    ngram_1 = keras.layers.Conv1D(filters = hp.Int('filters1',\n",
        "                                                min_value = 200, \n",
        "                                                max_value = 300, \n",
        "                                                step = 50),\n",
        "                                  kernel_size = hp.Int('kernel_size1',\n",
        "                                                min_value = 3, \n",
        "                                                max_value = 5, \n",
        "                                                step = 1),\n",
        "                                  activation='relu',\n",
        "                                  kernel_regularizer = keras.regularizers.l2(hp.Choice('kernel_cnn1',\n",
        "                                                                                       values = [0.0, 0.01])))(embedding)\n",
        "    ngram_2 = keras.layers.Conv1D(filters = hp.Int('filters2',\n",
        "                                                min_value = 200, \n",
        "                                                max_value = 300, \n",
        "                                                step = 50),\n",
        "                                  kernel_size = hp.Int('kernel_size2',\n",
        "                                                min_value = 3, \n",
        "                                                max_value = 5, \n",
        "                                                step = 1),\n",
        "                                  activation='relu',\n",
        "                                  kernel_regularizer = keras.regularizers.l2(hp.Choice('kernel_cnn2',\n",
        "                                                                                       values = [0.0, 0.01])))(embedding)\n",
        "    ngram_3 = keras.layers.Conv1D(filters = hp.Int('filters3',\n",
        "                                                min_value = 200, \n",
        "                                                max_value = 300, \n",
        "                                                step = 50),\n",
        "                                  kernel_size = hp.Int('kernel_size3',\n",
        "                                                min_value = 3, \n",
        "                                                max_value = 5, \n",
        "                                                step = 1),\n",
        "                                  activation='relu',\n",
        "                                  kernel_regularizer = keras.regularizers.l2(hp.Choice('kernel_cnn3',\n",
        "                                                                                       values = [0.0, 0.01])))(embedding)\n",
        "    ngram_4 = keras.layers.Conv1D(filters = hp.Int('filters4',\n",
        "                                                min_value = 200, \n",
        "                                                max_value = 300, \n",
        "                                                step = 50),\n",
        "                                  kernel_size = hp.Int('kernel_size4',\n",
        "                                                min_value = 3, \n",
        "                                                max_value = 5, \n",
        "                                                step = 1),\n",
        "                                  activation='relu',\n",
        "                                  kernel_regularizer = keras.regularizers.l2(hp.Choice('kernel_cnn4',\n",
        "                                                                                       values = [0.0, 0.01])))(embedding)\n",
        " \n",
        "    #Max Pooling layer\n",
        "    ngram_1 = keras.layers.GlobalMaxPooling1D()(ngram_1)\n",
        "    ngram_2 = keras.layers.GlobalMaxPooling1D()(ngram_2)\n",
        "    ngram_3 = keras.layers.GlobalMaxPooling1D()(ngram_3)\n",
        "    ngram_4 = keras.layers.GlobalMaxPooling1D()(ngram_4)\n",
        "    merged = keras.layers.Concatenate(axis=1)([ngram_1, ngram_2, ngram_3, ngram_4])\n",
        " \n",
        "    #BiLSTM layer\n",
        "    bilstm1 = keras.layers.Layer(LSTM(units = hp.Int('units1',\n",
        "                                                     min_value = 100,\n",
        "                                                     max_value = 200,\n",
        "                                                     step = 50),\n",
        "                                      kernel_regularizer=keras.regularizers.l2(hp.Choice('kernel_regularizer1',\n",
        "                                                                                         values = [0.0, 0.01])),\n",
        "                                      recurrent_regularizer=keras.regularizers.l2(hp.Choice('rec_regularizer1',\n",
        "                                                                                            values = [0.0, 0.01])),\n",
        "                                      return_sequences = True))(merged)\n",
        "    bilstm2 = keras.layers.Layer(LSTM(units = hp.Int('units2',\n",
        "                                                     min_value = 100,\n",
        "                                                     max_value = 200,\n",
        "                                                     step = 50),\n",
        "                                      kernel_regularizer=keras.regularizers.l2(hp.Choice('kernel_regularizer2',\n",
        "                                                                                         values = [0.0, 0.01])),\n",
        "                                      recurrent_regularizer=keras.regularizers.l2(hp.Choice('rec_regularizer2',\n",
        "                                                                                            values = [0.0, 0.01])),\n",
        "                                      return_sequences = True, go_backwards=True))(bilstm1)\n",
        "    \n",
        "    #Dropout layer\n",
        "    lstm_out = keras.layers.Dropout(0.25)(bilstm2)\n",
        " \n",
        "    #Output layer\n",
        "    output = keras.layers.Dense(1, activation='sigmoid', kernel_regularizer=keras.regularizers.l2(hp.Choice('kernel_dense', values = [0.0, 0.01])))(lstm_out)\n",
        "    model = keras.models.Model(inputs=inputs, outputs=output)\n",
        " \n",
        "    model.compile(optimizer = keras.optimizers.Adam(\n",
        "                              hp.Choice('learning_rate', \n",
        "                                        values = [1e-2, 1e-3, 1e-4])),\n",
        "                              loss='binary_crossentropy',\n",
        "                              metrics=['accuracy'])\n",
        " \n",
        "    return model\n",
        " \n",
        "tuner = BayesianOptimization(cnn_bilstm,\n",
        "                             objective = 'val_accuracy', \n",
        "                             max_trials = 10,\n",
        "                             directory = 'Hasil',\n",
        "                             project_name = 'Sentimen_CNN-BiLSTM')\n",
        " \n",
        "tuner.search(x_train, y_train, batch_size=32, epochs = 10, validation_data = (x_test, y_test))\n",
        " \n",
        "# Get the optimal hyperparameters\n",
        "best_hps = tuner.get_best_hyperparameters()[0]\n",
        " \n",
        "print('\\nThe hyperparameter search is complete. \\nembedding_size:', best_hps.get('embedding_size'),\n",
        "      '\\nfilters:', [best_hps.get('filters1'), best_hps.get('filters2'), best_hps.get('filters3'), best_hps.get('filters4')],\n",
        "      '\\nkernel_size:', [best_hps.get('kernel_size1'), best_hps.get('kernel_size2'), best_hps.get('kernel_size3'), best_hps.get('kernel_size4')],\n",
        "      '\\nkernel_cnn:', [best_hps.get('kernel_cnn1'), best_hps.get('kernel_cnn2'), best_hps.get('kernel_cnn3'), best_hps.get('kernel_cnn4')],\n",
        "      '\\nunit:', [best_hps.get('units1'), best_hps.get('units2')],\n",
        "      '\\nkernel_regularizer:', [best_hps.get('kernel_regularizer1'), best_hps.get('kernel_regularizer2')],\n",
        "      '\\nrec_regularizer:', [best_hps.get('rec_regularizer1'), best_hps.get('rec_regularizer2')],\n",
        "      '\\nkernel_dense:', best_hps.get('kernel_dense'),\n",
        "      '\\nLearning rate:', best_hps.get('learning_rate'))"
      ],
      "execution_count": null,
      "outputs": [
        {
          "output_type": "stream",
          "text": [
            "Trial 10 Complete [00h 04m 23s]\n",
            "val_accuracy: 0.8936627507209778\n",
            "\n",
            "Best val_accuracy So Far: 0.9044038653373718\n",
            "Total elapsed time: 00h 44m 21s\n",
            "INFO:tensorflow:Oracle triggered exit\n",
            "\n",
            "The hyperparameter search is complete. \n",
            "embedding_size: 128 \n",
            "filters: [300, 250, 300, 250] \n",
            "kernel_size: [4, 5, 4, 3] \n",
            "kernel_cnn: [0.01, 0.01, 0.0, 0.01] \n",
            "unit: [200, 100] \n",
            "kernel_regularizer: [0.0, 0.01] \n",
            "rec_regularizer: [0.01, 0.0] \n",
            "kernel_dense: 0.0 \n",
            "Learning rate: 0.0001\n"
          ],
          "name": "stdout"
        }
      ]
    },
    {
      "cell_type": "code",
      "metadata": {
        "id": "sGr7gMSOXFX4",
        "colab": {
          "base_uri": "https://localhost:8080/",
          "height": 976
        },
        "outputId": "4ab83641-3c84-4948-c904-68abda9dbc6e"
      },
      "source": [
        "from tensorflow.keras.utils import plot_model\n",
        " \n",
        "model = tuner.hypermodel.build(best_hps)\n",
        " \n",
        "#Plot Model\n",
        "plot_model(model, to_file='model.png', show_shapes=True, show_layer_names=False, rankdir='TB')"
      ],
      "execution_count": null,
      "outputs": [
        {
          "output_type": "execute_result",
          "data": {
            "image/png": "[encoded data removed]",
            "text/plain": [
              "<IPython.core.display.Image object>"
            ]
          },
          "metadata": {
            "tags": []
          },
          "execution_count": 18
        }
      ]
    },
    {
      "cell_type": "code",
      "metadata": {
        "id": "LuXoG8C-_2rv",
        "colab": {
          "base_uri": "https://localhost:8080/"
        },
        "outputId": "2484fad4-77d8-4925-a36a-b5979e481aab"
      },
      "source": [
        "# Summary Model\n",
        "model.summary()"
      ],
      "execution_count": null,
      "outputs": [
        {
          "output_type": "stream",
          "text": [
            "Model: \"model\"\n",
            "__________________________________________________________________________________________________\n",
            "Layer (type)                    Output Shape         Param #     Connected to                     \n",
            "==================================================================================================\n",
            "input_1 (InputLayer)            [(None, 80)]         0                                            \n",
            "__________________________________________________________________________________________________\n",
            "embedding (Embedding)           (None, 80, 128)      718720      input_1[0][0]                    \n",
            "__________________________________________________________________________________________________\n",
            "conv1d (Conv1D)                 (None, 77, 300)      153900      embedding[0][0]                  \n",
            "__________________________________________________________________________________________________\n",
            "conv1d_1 (Conv1D)               (None, 76, 250)      160250      embedding[0][0]                  \n",
            "__________________________________________________________________________________________________\n",
            "conv1d_2 (Conv1D)               (None, 77, 300)      153900      embedding[0][0]                  \n",
            "__________________________________________________________________________________________________\n",
            "conv1d_3 (Conv1D)               (None, 78, 250)      96250       embedding[0][0]                  \n",
            "__________________________________________________________________________________________________\n",
            "global_max_pooling1d (GlobalMax (None, 300)          0           conv1d[0][0]                     \n",
            "__________________________________________________________________________________________________\n",
            "global_max_pooling1d_1 (GlobalM (None, 250)          0           conv1d_1[0][0]                   \n",
            "__________________________________________________________________________________________________\n",
            "global_max_pooling1d_2 (GlobalM (None, 300)          0           conv1d_2[0][0]                   \n",
            "__________________________________________________________________________________________________\n",
            "global_max_pooling1d_3 (GlobalM (None, 250)          0           conv1d_3[0][0]                   \n",
            "__________________________________________________________________________________________________\n",
            "concatenate (Concatenate)       (None, 1100)         0           global_max_pooling1d[0][0]       \n",
            "                                                                 global_max_pooling1d_1[0][0]     \n",
            "                                                                 global_max_pooling1d_2[0][0]     \n",
            "                                                                 global_max_pooling1d_3[0][0]     \n",
            "__________________________________________________________________________________________________\n",
            "layer (Layer)                   (None, 1100)         0           concatenate[0][0]                \n",
            "__________________________________________________________________________________________________\n",
            "layer_1 (Layer)                 (None, 1100)         0           layer[0][0]                      \n",
            "__________________________________________________________________________________________________\n",
            "dropout (Dropout)               (None, 1100)         0           layer_1[0][0]                    \n",
            "__________________________________________________________________________________________________\n",
            "dense (Dense)                   (None, 1)            1101        dropout[0][0]                    \n",
            "==================================================================================================\n",
            "Total params: 1,284,121\n",
            "Trainable params: 1,284,121\n",
            "Non-trainable params: 0\n",
            "__________________________________________________________________________________________________\n"
          ],
          "name": "stdout"
        }
      ]
    },
    {
      "cell_type": "code",
      "metadata": {
        "id": "PT5xuTx3VCwO",
        "colab": {
          "base_uri": "https://localhost:8080/"
        },
        "outputId": "525499f7-fe02-4b4b-8d51-d17f62611559"
      },
      "source": [
        "# Retrain model with the optimal hyperparameters\n",
        "history = model.fit(x_train, y_train, batch_size=32, epochs = 10, validation_data = (x_test, y_test))"
      ],
      "execution_count": null,
      "outputs": [
        {
          "output_type": "stream",
          "text": [
            "Epoch 1/10\n",
            "117/117 [==============================] - 26s 214ms/step - loss: 4.6102 - accuracy: 0.6363 - val_loss: 3.5265 - val_accuracy: 0.6498\n",
            "Epoch 2/10\n",
            "117/117 [==============================] - 24s 208ms/step - loss: 2.8020 - accuracy: 0.6411 - val_loss: 2.1622 - val_accuracy: 0.6552\n",
            "Epoch 3/10\n",
            "117/117 [==============================] - 24s 207ms/step - loss: 1.7228 - accuracy: 0.7102 - val_loss: 1.3290 - val_accuracy: 0.8077\n",
            "Epoch 4/10\n",
            "117/117 [==============================] - 24s 209ms/step - loss: 1.0482 - accuracy: 0.8439 - val_loss: 0.8153 - val_accuracy: 0.8743\n",
            "Epoch 5/10\n",
            "117/117 [==============================] - 24s 209ms/step - loss: 0.6451 - accuracy: 0.8955 - val_loss: 0.5366 - val_accuracy: 0.8904\n",
            "Epoch 6/10\n",
            "117/117 [==============================] - 25s 210ms/step - loss: 0.4260 - accuracy: 0.9149 - val_loss: 0.3944 - val_accuracy: 0.8947\n",
            "Epoch 7/10\n",
            "117/117 [==============================] - 24s 207ms/step - loss: 0.3078 - accuracy: 0.9251 - val_loss: 0.3260 - val_accuracy: 0.8980\n",
            "Epoch 8/10\n",
            "117/117 [==============================] - 24s 208ms/step - loss: 0.2408 - accuracy: 0.9353 - val_loss: 0.2894 - val_accuracy: 0.9012\n",
            "Epoch 9/10\n",
            "117/117 [==============================] - 24s 208ms/step - loss: 0.2004 - accuracy: 0.9436 - val_loss: 0.2728 - val_accuracy: 0.8926\n",
            "Epoch 10/10\n",
            "117/117 [==============================] - 24s 207ms/step - loss: 0.1746 - accuracy: 0.9500 - val_loss: 0.2678 - val_accuracy: 0.8969\n"
          ],
          "name": "stdout"
        }
      ]
    },
    {
      "cell_type": "code",
      "metadata": {
        "id": "PntiZ8pfZtmL"
      },
      "source": [
        "# Plot grafik loss dan accuracy\n",
        "pd.DataFrame(history.history).plot(figsize=(8, 5))\n",
        "plt.grid(True)\n",
        "plt.gca().set_ylim(0,5)\n",
        " \n",
        "plt.show()"
      ],
      "execution_count": null,
      "outputs": []
    },
    {
      "cell_type": "code",
      "metadata": {
        "id": "5TvmH7RgWcgf"
      },
      "source": [
        "## Evaluasi Model\n",
        "test_loss, test_acc = model.evaluate(x_test, y_test)\n",
        "print('Test accuracy:', test_acc)"
      ],
      "execution_count": null,
      "outputs": []
    },
    {
      "cell_type": "code",
      "metadata": {
        "id": "hTyNM5AvWd1E"
      },
      "source": [
        "## Penyimpanan Model\n",
        "model.save('Data/model_CNN-BiLSTM_sentiment.h5')"
      ],
      "execution_count": null,
      "outputs": []
    },
    {
      "cell_type": "markdown",
      "metadata": {
        "id": "I3oI9nRiskIz"
      },
      "source": [
        "# **Prediksi data baru**"
      ]
    },
    {
      "cell_type": "code",
      "metadata": {
        "colab": {
          "base_uri": "https://localhost:8080/",
          "height": 488
        },
        "id": "Aaj220yEsrnX",
        "outputId": "767532c4-c696-4bf2-e1cc-f8fb22b2274c"
      },
      "source": [
        "# Upload data yang akan diprediksi\n",
        "new_data = pd.read_csv('https://raw.githubusercontent.com/Syamsyuriani/Scrapping_Data/main/Quipper-Data.csv')\n",
        "new_data"
      ],
      "execution_count": null,
      "outputs": [
        {
          "output_type": "execute_result",
          "data": {
            "text/html": [
              "<div>\n",
              "<style scoped>\n",
              "    .dataframe tbody tr th:only-of-type {\n",
              "        vertical-align: middle;\n",
              "    }\n",
              "\n",
              "    .dataframe tbody tr th {\n",
              "        vertical-align: top;\n",
              "    }\n",
              "\n",
              "    .dataframe thead th {\n",
              "        text-align: right;\n",
              "    }\n",
              "</style>\n",
              "<table border=\"1\" class=\"dataframe\">\n",
              "  <thead>\n",
              "    <tr style=\"text-align: right;\">\n",
              "      <th></th>\n",
              "      <th>review</th>\n",
              "    </tr>\n",
              "  </thead>\n",
              "  <tbody>\n",
              "    <tr>\n",
              "      <th>0</th>\n",
              "      <td>kalau bisa di perbarui lagi</td>\n",
              "    </tr>\n",
              "    <tr>\n",
              "      <th>1</th>\n",
              "      <td>KEREN!!!</td>\n",
              "    </tr>\n",
              "    <tr>\n",
              "      <th>2</th>\n",
              "      <td>Kalo yang udah daftar terus di login pake face...</td>\n",
              "    </tr>\n",
              "    <tr>\n",
              "      <th>3</th>\n",
              "      <td>Kode kelas tidak di temukan gimana nh min??? D...</td>\n",
              "    </tr>\n",
              "    <tr>\n",
              "      <th>4</th>\n",
              "      <td>hai quipper video 😊 , saya ingin memberi masuk...</td>\n",
              "    </tr>\n",
              "    <tr>\n",
              "      <th>...</th>\n",
              "      <td>...</td>\n",
              "    </tr>\n",
              "    <tr>\n",
              "      <th>93</th>\n",
              "      <td>Cacat quiper vidio gembel</td>\n",
              "    </tr>\n",
              "    <tr>\n",
              "      <th>94</th>\n",
              "      <td>Gak bisa buat SD ya? Hmmm...</td>\n",
              "    </tr>\n",
              "    <tr>\n",
              "      <th>95</th>\n",
              "      <td>Bikin belajar lebih mudah</td>\n",
              "    </tr>\n",
              "    <tr>\n",
              "      <th>96</th>\n",
              "      <td>Jawaban bener kok disalahin</td>\n",
              "    </tr>\n",
              "    <tr>\n",
              "      <th>97</th>\n",
              "      <td>Kak kok mahal sih... tolong murah in yyyyy.......</td>\n",
              "    </tr>\n",
              "  </tbody>\n",
              "</table>\n",
              "<p>98 rows × 1 columns</p>\n",
              "</div>"
            ],
            "text/plain": [
              "                                               review\n",
              "0                         kalau bisa di perbarui lagi\n",
              "1                                            KEREN!!!\n",
              "2   Kalo yang udah daftar terus di login pake face...\n",
              "3   Kode kelas tidak di temukan gimana nh min??? D...\n",
              "4   hai quipper video 😊 , saya ingin memberi masuk...\n",
              "..                                                ...\n",
              "93                          Cacat quiper vidio gembel\n",
              "94                       Gak bisa buat SD ya? Hmmm...\n",
              "95                          Bikin belajar lebih mudah\n",
              "96                        Jawaban bener kok disalahin\n",
              "97  Kak kok mahal sih... tolong murah in yyyyy.......\n",
              "\n",
              "[98 rows x 1 columns]"
            ]
          },
          "metadata": {
            "tags": []
          },
          "execution_count": 41
        }
      ]
    },
    {
      "cell_type": "code",
      "metadata": {
        "id": "aeE0lvcwtAUq"
      },
      "source": [
        "# Memuat kembali model\n",
        "model = keras.models.load_model('Data/model_CNN-BiLSTM_sentiment.h5')"
      ],
      "execution_count": null,
      "outputs": []
    },
    {
      "cell_type": "code",
      "metadata": {
        "id": "n6mtoBZUt0sO"
      },
      "source": [
        "# Tokenisasi dan pad sequencing\n",
        "tokenizer = keras.preprocessing.text.Tokenizer()\n",
        "tokenizer.fit_on_texts(new_data['review'])\n",
        "seq = tokenizer.texts_to_sequences(new_data['review'])\n",
        "x_pred = keras.preprocessing.sequence.pad_sequences(seq, maxlen=80)\n",
        "y_pred = model.predict(x_pred)\n",
        "\n",
        "treshold = 0.5\n",
        "for i in range(y_pred.shape[0]):\n",
        "  if y_pred[i] > treshold:\n",
        "    y_pred[i] = 1\n",
        "  else:\n",
        "    y_pred[i] = -1\n",
        "\n",
        "new_data['label'] = y_pred"
      ],
      "execution_count": null,
      "outputs": []
    },
    {
      "cell_type": "code",
      "metadata": {
        "colab": {
          "base_uri": "https://localhost:8080/",
          "height": 1000
        },
        "id": "q9sIjgUXyDHF",
        "outputId": "581560c5-46c7-428b-9d8d-1675f4cb7532"
      },
      "source": [
        "# Hasil data yang telah diberi label\n",
        "pd.set_option(\"max_colwidth\", 100)\n",
        "pd.set_option(\"max_rows\", None)\n",
        "new_data"
      ],
      "execution_count": null,
      "outputs": [
        {
          "output_type": "execute_result",
          "data": {
            "text/html": [
              "<div>\n",
              "<style scoped>\n",
              "    .dataframe tbody tr th:only-of-type {\n",
              "        vertical-align: middle;\n",
              "    }\n",
              "\n",
              "    .dataframe tbody tr th {\n",
              "        vertical-align: top;\n",
              "    }\n",
              "\n",
              "    .dataframe thead th {\n",
              "        text-align: right;\n",
              "    }\n",
              "</style>\n",
              "<table border=\"1\" class=\"dataframe\">\n",
              "  <thead>\n",
              "    <tr style=\"text-align: right;\">\n",
              "      <th></th>\n",
              "      <th>review</th>\n",
              "      <th>label</th>\n",
              "    </tr>\n",
              "  </thead>\n",
              "  <tbody>\n",
              "    <tr>\n",
              "      <th>0</th>\n",
              "      <td>kalau bisa di perbarui lagi</td>\n",
              "      <td>1.0</td>\n",
              "    </tr>\n",
              "    <tr>\n",
              "      <th>1</th>\n",
              "      <td>KEREN!!!</td>\n",
              "      <td>-1.0</td>\n",
              "    </tr>\n",
              "    <tr>\n",
              "      <th>2</th>\n",
              "      <td>Kalo yang udah daftar terus di login pake facebook gampang,,, tapi kok quipper sekarang makin jelek</td>\n",
              "      <td>-1.0</td>\n",
              "    </tr>\n",
              "    <tr>\n",
              "      <th>3</th>\n",
              "      <td>Kode kelas tidak di temukan gimana nh min??? Dan untuk smk di tambah dong!!!!</td>\n",
              "      <td>-1.0</td>\n",
              "    </tr>\n",
              "    <tr>\n",
              "      <th>4</th>\n",
              "      <td>hai quipper video 😊 , saya ingin memberi masukan, lebih baik video yang sudah di unduh dan di si...</td>\n",
              "      <td>-1.0</td>\n",
              "    </tr>\n",
              "    <tr>\n",
              "      <th>5</th>\n",
              "      <td>Mohon diperbaiki, setelah diupdate konten soal terkadang tidak bisa diunduh dengan sempurna kemu...</td>\n",
              "      <td>-1.0</td>\n",
              "    </tr>\n",
              "    <tr>\n",
              "      <th>6</th>\n",
              "      <td>Tambahin fitur tany Guru dong biar lebih paham lagi. Tapi semuanya udah bagus. Yang bilang jelek...</td>\n",
              "      <td>-1.0</td>\n",
              "    </tr>\n",
              "    <tr>\n",
              "      <th>7</th>\n",
              "      <td>Masa gak ada pembahasan soal un materi buat un juga tidak ada , aneh sekali , banyak soal yang s...</td>\n",
              "      <td>-1.0</td>\n",
              "    </tr>\n",
              "    <tr>\n",
              "      <th>8</th>\n",
              "      <td>Gimana cari maga pelajaran yang pangen ditanya. Dan kenapa malah UN 2013 GAK ADA UN 2017 or 2016...</td>\n",
              "      <td>-1.0</td>\n",
              "    </tr>\n",
              "    <tr>\n",
              "      <th>9</th>\n",
              "      <td>Quipper itu seperti aplikasi les belajar buat di rumah atau dimanapun dari hp, wajar saja kalau ...</td>\n",
              "      <td>-1.0</td>\n",
              "    </tr>\n",
              "    <tr>\n",
              "      <th>10</th>\n",
              "      <td>Setelah saya update quipper, saya pengguna quipper video yang ingin belajar matematika selalu bi...</td>\n",
              "      <td>-1.0</td>\n",
              "    </tr>\n",
              "    <tr>\n",
              "      <th>11</th>\n",
              "      <td>Ga bisa daftar lewat Facebook ! Payah dasar, tolong di perbaiki lagi</td>\n",
              "      <td>-1.0</td>\n",
              "    </tr>\n",
              "    <tr>\n",
              "      <th>12</th>\n",
              "      <td>Quipper video sngt membantu dlm bljr, over all saya suka bngt sm app ini. Cma, tolong taskbook n...</td>\n",
              "      <td>-1.0</td>\n",
              "    </tr>\n",
              "    <tr>\n",
              "      <th>13</th>\n",
              "      <td>Masih ada beberapa konten yg perlu ditambah materi2 baruvmisalnya</td>\n",
              "      <td>1.0</td>\n",
              "    </tr>\n",
              "    <tr>\n",
              "      <th>14</th>\n",
              "      <td>Kok aku daftar gak bisa sih... Tolong di perbaiki</td>\n",
              "      <td>-1.0</td>\n",
              "    </tr>\n",
              "    <tr>\n",
              "      <th>15</th>\n",
              "      <td>Bagus sekali karena sangat membantu ealam belajar</td>\n",
              "      <td>-1.0</td>\n",
              "    </tr>\n",
              "    <tr>\n",
              "      <th>16</th>\n",
              "      <td>Kalo gaada kuota masih bisa nonton video di quipper ga?</td>\n",
              "      <td>-1.0</td>\n",
              "    </tr>\n",
              "    <tr>\n",
              "      <th>17</th>\n",
              "      <td>Aplikasi ini cukup baguuss, karena di aplikasi ini bisa membantu kalian para pelajar yg kurang m...</td>\n",
              "      <td>-1.0</td>\n",
              "    </tr>\n",
              "    <tr>\n",
              "      <th>18</th>\n",
              "      <td>aplikasi ga bagus padahal.udh login.tapi selalu.ga masuk buka beranda aja ga isa</td>\n",
              "      <td>-1.0</td>\n",
              "    </tr>\n",
              "    <tr>\n",
              "      <th>19</th>\n",
              "      <td>Keren banget jadi kalo ada ulangan ga usah khawatir deh</td>\n",
              "      <td>-1.0</td>\n",
              "    </tr>\n",
              "    <tr>\n",
              "      <th>20</th>\n",
              "      <td>Aku baru download aja udah senang kali apa lagi kalau udah di coba</td>\n",
              "      <td>-1.0</td>\n",
              "    </tr>\n",
              "    <tr>\n",
              "      <th>21</th>\n",
              "      <td>Saya belum dapat kode kelas untuk kelas 7 ,agak rugi.</td>\n",
              "      <td>-1.0</td>\n",
              "    </tr>\n",
              "    <tr>\n",
              "      <th>22</th>\n",
              "      <td>Maksudnya masukan kode tuh apa? Terus minta sama siapa? Help mee.-</td>\n",
              "      <td>-1.0</td>\n",
              "    </tr>\n",
              "    <tr>\n",
              "      <th>23</th>\n",
              "      <td>Knp quipper nya ga bsa kebuka?? Pdhl udh d install ulang?? Dstu bnyk tgs. Quipper ko skrg jelek??</td>\n",
              "      <td>-1.0</td>\n",
              "    </tr>\n",
              "    <tr>\n",
              "      <th>24</th>\n",
              "      <td>Kode buat gabung kelas apa ya?</td>\n",
              "      <td>-1.0</td>\n",
              "    </tr>\n",
              "    <tr>\n",
              "      <th>25</th>\n",
              "      <td>Saya kok g bisa masuk\" ya</td>\n",
              "      <td>-1.0</td>\n",
              "    </tr>\n",
              "    <tr>\n",
              "      <th>26</th>\n",
              "      <td>Kok nggak bisa masuk sih</td>\n",
              "      <td>-1.0</td>\n",
              "    </tr>\n",
              "    <tr>\n",
              "      <th>27</th>\n",
              "      <td>Ka Ko Gabisa Masukk😂</td>\n",
              "      <td>-1.0</td>\n",
              "    </tr>\n",
              "    <tr>\n",
              "      <th>28</th>\n",
              "      <td>Masa gk bisa masuk najis</td>\n",
              "      <td>-1.0</td>\n",
              "    </tr>\n",
              "    <tr>\n",
              "      <th>29</th>\n",
              "      <td>Knp ngk ad untuk sd kls 6</td>\n",
              "      <td>-1.0</td>\n",
              "    </tr>\n",
              "    <tr>\n",
              "      <th>30</th>\n",
              "      <td>Tolong di perbarui untuk tahun pelajaran yang baru</td>\n",
              "      <td>-1.0</td>\n",
              "    </tr>\n",
              "    <tr>\n",
              "      <th>31</th>\n",
              "      <td>Aku suka banget ihhh</td>\n",
              "      <td>1.0</td>\n",
              "    </tr>\n",
              "    <tr>\n",
              "      <th>32</th>\n",
              "      <td>Gimana ubah photo profilnya? tolong ya!</td>\n",
              "      <td>-1.0</td>\n",
              "    </tr>\n",
              "    <tr>\n",
              "      <th>33</th>\n",
              "      <td>Materinya ditambah dong</td>\n",
              "      <td>1.0</td>\n",
              "    </tr>\n",
              "    <tr>\n",
              "      <th>34</th>\n",
              "      <td>Cara buat login dan buat pembayarannya gmna?</td>\n",
              "      <td>-1.0</td>\n",
              "    </tr>\n",
              "    <tr>\n",
              "      <th>35</th>\n",
              "      <td>ga bisa daftar bhaks</td>\n",
              "      <td>-1.0</td>\n",
              "    </tr>\n",
              "    <tr>\n",
              "      <th>36</th>\n",
              "      <td>Quipper ini sangat membantu aku</td>\n",
              "      <td>1.0</td>\n",
              "    </tr>\n",
              "    <tr>\n",
              "      <th>37</th>\n",
              "      <td>Kode kelas gimana isinya ?</td>\n",
              "      <td>-1.0</td>\n",
              "    </tr>\n",
              "    <tr>\n",
              "      <th>38</th>\n",
              "      <td>Insya allah tidak mengecewakan</td>\n",
              "      <td>-1.0</td>\n",
              "    </tr>\n",
              "    <tr>\n",
              "      <th>39</th>\n",
              "      <td>Bagus untuk guru dan murid</td>\n",
              "      <td>-1.0</td>\n",
              "    </tr>\n",
              "    <tr>\n",
              "      <th>40</th>\n",
              "      <td>lah kok ngga bisa daftar???? payahhhhhh</td>\n",
              "      <td>1.0</td>\n",
              "    </tr>\n",
              "    <tr>\n",
              "      <th>41</th>\n",
              "      <td>Kode kelasnya apa?</td>\n",
              "      <td>-1.0</td>\n",
              "    </tr>\n",
              "    <tr>\n",
              "      <th>42</th>\n",
              "      <td>Loadnya lama</td>\n",
              "      <td>-1.0</td>\n",
              "    </tr>\n",
              "    <tr>\n",
              "      <th>43</th>\n",
              "      <td>Sangat membingungkan</td>\n",
              "      <td>-1.0</td>\n",
              "    </tr>\n",
              "    <tr>\n",
              "      <th>44</th>\n",
              "      <td>Mlebune mulek</td>\n",
              "      <td>1.0</td>\n",
              "    </tr>\n",
              "    <tr>\n",
              "      <th>45</th>\n",
              "      <td>Lebih bagus</td>\n",
              "      <td>-1.0</td>\n",
              "    </tr>\n",
              "    <tr>\n",
              "      <th>46</th>\n",
              "      <td>Aplikasi ini berbayar ya ???</td>\n",
              "      <td>1.0</td>\n",
              "    </tr>\n",
              "    <tr>\n",
              "      <th>47</th>\n",
              "      <td>Keren😆</td>\n",
              "      <td>-1.0</td>\n",
              "    </tr>\n",
              "    <tr>\n",
              "      <th>48</th>\n",
              "      <td>Lumayan juga</td>\n",
              "      <td>-1.0</td>\n",
              "    </tr>\n",
              "    <tr>\n",
              "      <th>49</th>\n",
              "      <td>Waktubitu saya donload tapi saat saya buka nama sekolah sy tdk ada dan harga paket mahal tolong ...</td>\n",
              "      <td>-1.0</td>\n",
              "    </tr>\n",
              "    <tr>\n",
              "      <th>50</th>\n",
              "      <td>Yahh gk bisa buka quiper vidionya deh pake duit bukanya dan paling orang tuaku gk bolehin :'( gk...</td>\n",
              "      <td>-1.0</td>\n",
              "    </tr>\n",
              "    <tr>\n",
              "      <th>51</th>\n",
              "      <td>Untuk soal yang tidak bisa dibuka di app (harus di web) tolong untuk tetap bisa mendownload vide...</td>\n",
              "      <td>-1.0</td>\n",
              "    </tr>\n",
              "    <tr>\n",
              "      <th>52</th>\n",
              "      <td>Kak sekolah saya g ada jd bingung daftarnya. MTsN 1 Bandar Kidul Kediri</td>\n",
              "      <td>-1.0</td>\n",
              "    </tr>\n",
              "    <tr>\n",
              "      <th>53</th>\n",
              "      <td>Ini kode kelasnya maksutnya gimana ya? Sudah saya masukkan kodenya tapi gak bisa!</td>\n",
              "      <td>-1.0</td>\n",
              "    </tr>\n",
              "    <tr>\n",
              "      <th>54</th>\n",
              "      <td>Bukanya belajar Mala buang buang waktu buat daftar, sudah berkali-kali di coba daftar tetap aja ...</td>\n",
              "      <td>-1.0</td>\n",
              "    </tr>\n",
              "    <tr>\n",
              "      <th>55</th>\n",
              "      <td>Menurut saya paket harganya itu kemahalan deh.. jd blm tentu dibolehin sm ortu .. jd mohon paket...</td>\n",
              "      <td>-1.0</td>\n",
              "    </tr>\n",
              "    <tr>\n",
              "      <th>56</th>\n",
              "      <td>Gak jelas Maksudnya apa sh Kok ada kode kelas2.... Ngga tau deh Jadi bingung</td>\n",
              "      <td>-1.0</td>\n",
              "    </tr>\n",
              "    <tr>\n",
              "      <th>57</th>\n",
              "      <td>Aku lihat dulu aja ah aku kan br doenload</td>\n",
              "      <td>-1.0</td>\n",
              "    </tr>\n",
              "    <tr>\n",
              "      <th>58</th>\n",
              "      <td>Kok setelah di perbarui aku coba download videonya gak bisa2 sih ? Padahal kualitas jaringannya ...</td>\n",
              "      <td>-1.0</td>\n",
              "    </tr>\n",
              "    <tr>\n",
              "      <th>59</th>\n",
              "      <td>Mending Punya App ini cuma bayar 1juta, udah lengkap. Ini sama seperti les online bahkan sekolah...</td>\n",
              "      <td>-1.0</td>\n",
              "    </tr>\n",
              "    <tr>\n",
              "      <th>60</th>\n",
              "      <td>sangat membantu sekali dalam belajar terima kasih quipper ^_^</td>\n",
              "      <td>1.0</td>\n",
              "    </tr>\n",
              "    <tr>\n",
              "      <th>61</th>\n",
              "      <td>Top dah buat quipper Ga nyesel langganan 😂👍</td>\n",
              "      <td>1.0</td>\n",
              "    </tr>\n",
              "    <tr>\n",
              "      <th>62</th>\n",
              "      <td>Jelek banget!!! Udah berulang kali download tapi ttp aja sama ,,ga bisa daftarin,,,padahal semua...</td>\n",
              "      <td>-1.0</td>\n",
              "    </tr>\n",
              "    <tr>\n",
              "      <th>63</th>\n",
              "      <td>Maksudnya sandi itu apa sih harus diisi apa tolong beri tahu saya</td>\n",
              "      <td>-1.0</td>\n",
              "    </tr>\n",
              "    <tr>\n",
              "      <th>64</th>\n",
              "      <td>Ga bisa daftar log in pake FB juga ga bisa tolong perbaiki</td>\n",
              "      <td>-1.0</td>\n",
              "    </tr>\n",
              "    <tr>\n",
              "      <th>65</th>\n",
              "      <td>Thanks quipper belajar ku jadi terbantu sejak ada aplikasi quipper thanks pokonya membantu bngt</td>\n",
              "      <td>-1.0</td>\n",
              "    </tr>\n",
              "    <tr>\n",
              "      <th>66</th>\n",
              "      <td>Ka susah daftarnya,gimana tolong bantu</td>\n",
              "      <td>-1.0</td>\n",
              "    </tr>\n",
              "    <tr>\n",
              "      <th>67</th>\n",
              "      <td>Sekolah saya kok gak ada ya.. SMK Grafika Mardi Yuana Bogor jurusan DKV?</td>\n",
              "      <td>-1.0</td>\n",
              "    </tr>\n",
              "    <tr>\n",
              "      <th>68</th>\n",
              "      <td>Gimana dong aku kan gak punya email</td>\n",
              "      <td>-1.0</td>\n",
              "    </tr>\n",
              "    <tr>\n",
              "      <th>69</th>\n",
              "      <td>Tolong beritahu cara menggunakan aplikasinya masih kurang laham</td>\n",
              "      <td>1.0</td>\n",
              "    </tr>\n",
              "    <tr>\n",
              "      <th>70</th>\n",
              "      <td>Ko saya tidak bisa mendaftar ya padahal saya sudah masukan smua peraturan dgn benar..</td>\n",
              "      <td>-1.0</td>\n",
              "    </tr>\n",
              "    <tr>\n",
              "      <th>71</th>\n",
              "      <td>Banyak yang harus dibuka lewat web. Apa gunanya ada aplikasi tapi harus dibuka lewat web. Saya a...</td>\n",
              "      <td>-1.0</td>\n",
              "    </tr>\n",
              "    <tr>\n",
              "      <th>72</th>\n",
              "      <td>Ndk rugi bayar mahal,hasil nya aku dpat rengking 1</td>\n",
              "      <td>-1.0</td>\n",
              "    </tr>\n",
              "    <tr>\n",
              "      <th>73</th>\n",
              "      <td>The aplication is very well</td>\n",
              "      <td>-1.0</td>\n",
              "    </tr>\n",
              "    <tr>\n",
              "      <th>74</th>\n",
              "      <td>Kenapa waktu itu saya tidak bisa unduh video quipper pakai wifi</td>\n",
              "      <td>-1.0</td>\n",
              "    </tr>\n",
              "    <tr>\n",
              "      <th>75</th>\n",
              "      <td>Bagaimana cara mendapatkan kode kelas baruh?Bisah dibantu?</td>\n",
              "      <td>-1.0</td>\n",
              "    </tr>\n",
              "    <tr>\n",
              "      <th>76</th>\n",
              "      <td>Lumayan siihh.. Tapi kok, ada kode kelas segala macem ya?? Aku gl ngerti.. Guru aku gk ngasih ta...</td>\n",
              "      <td>-1.0</td>\n",
              "    </tr>\n",
              "    <tr>\n",
              "      <th>77</th>\n",
              "      <td>Hambuh rak ngerti ,ono kode kelas ig maksute pye to ra mudeng..😡😣</td>\n",
              "      <td>-1.0</td>\n",
              "    </tr>\n",
              "    <tr>\n",
              "      <th>78</th>\n",
              "      <td>Kenapa pas sementara lagi daftar quipper nya engga jadi pas lagi daftar</td>\n",
              "      <td>-1.0</td>\n",
              "    </tr>\n",
              "    <tr>\n",
              "      <th>79</th>\n",
              "      <td>Gak bisa di pake .</td>\n",
              "      <td>-1.0</td>\n",
              "    </tr>\n",
              "    <tr>\n",
              "      <th>80</th>\n",
              "      <td>Kok ngak ada nama sekolah aku ya</td>\n",
              "      <td>-1.0</td>\n",
              "    </tr>\n",
              "    <tr>\n",
              "      <th>81</th>\n",
              "      <td>Mau nanya dong kok aku gk bsa daftar ya?</td>\n",
              "      <td>-1.0</td>\n",
              "    </tr>\n",
              "    <tr>\n",
              "      <th>82</th>\n",
              "      <td>Semoga lebih maju lagi Quipper 😊</td>\n",
              "      <td>-1.0</td>\n",
              "    </tr>\n",
              "    <tr>\n",
              "      <th>83</th>\n",
              "      <td>Bagus,jadi enak ngerjain tugas nya</td>\n",
              "      <td>-1.0</td>\n",
              "    </tr>\n",
              "    <tr>\n",
              "      <th>84</th>\n",
              "      <td>Kalau pindah bab gimana caranya?</td>\n",
              "      <td>-1.0</td>\n",
              "    </tr>\n",
              "    <tr>\n",
              "      <th>85</th>\n",
              "      <td>Susah daftar ny</td>\n",
              "      <td>-1.0</td>\n",
              "    </tr>\n",
              "    <tr>\n",
              "      <th>86</th>\n",
              "      <td>Terima kasih , atas bantuanya Quipper</td>\n",
              "      <td>1.0</td>\n",
              "    </tr>\n",
              "    <tr>\n",
              "      <th>87</th>\n",
              "      <td>Seharusnya ada soal untuk sd juga!</td>\n",
              "      <td>-1.0</td>\n",
              "    </tr>\n",
              "    <tr>\n",
              "      <th>88</th>\n",
              "      <td>Gimana cara masukan kode kelasnya..?</td>\n",
              "      <td>-1.0</td>\n",
              "    </tr>\n",
              "    <tr>\n",
              "      <th>89</th>\n",
              "      <td>Mengapa materi biologi tidak adaa!?</td>\n",
              "      <td>-1.0</td>\n",
              "    </tr>\n",
              "    <tr>\n",
              "      <th>90</th>\n",
              "      <td>I like this application. Easier to learn 😋😋</td>\n",
              "      <td>-1.0</td>\n",
              "    </tr>\n",
              "    <tr>\n",
              "      <th>91</th>\n",
              "      <td>Kode kelas nya gimana</td>\n",
              "      <td>-1.0</td>\n",
              "    </tr>\n",
              "    <tr>\n",
              "      <th>92</th>\n",
              "      <td>saat saya mendaftar,kok tidak bisa?</td>\n",
              "      <td>-1.0</td>\n",
              "    </tr>\n",
              "    <tr>\n",
              "      <th>93</th>\n",
              "      <td>Cacat quiper vidio gembel</td>\n",
              "      <td>1.0</td>\n",
              "    </tr>\n",
              "    <tr>\n",
              "      <th>94</th>\n",
              "      <td>Gak bisa buat SD ya? Hmmm...</td>\n",
              "      <td>-1.0</td>\n",
              "    </tr>\n",
              "    <tr>\n",
              "      <th>95</th>\n",
              "      <td>Bikin belajar lebih mudah</td>\n",
              "      <td>-1.0</td>\n",
              "    </tr>\n",
              "    <tr>\n",
              "      <th>96</th>\n",
              "      <td>Jawaban bener kok disalahin</td>\n",
              "      <td>1.0</td>\n",
              "    </tr>\n",
              "    <tr>\n",
              "      <th>97</th>\n",
              "      <td>Kak kok mahal sih... tolong murah in yyyyy.... plissss</td>\n",
              "      <td>-1.0</td>\n",
              "    </tr>\n",
              "  </tbody>\n",
              "</table>\n",
              "</div>"
            ],
            "text/plain": [
              "                                                                                                 review  label\n",
              "0                                                                           kalau bisa di perbarui lagi    1.0\n",
              "1                                                                                              KEREN!!!   -1.0\n",
              "2   Kalo yang udah daftar terus di login pake facebook gampang,,, tapi kok quipper sekarang makin jelek   -1.0\n",
              "3                         Kode kelas tidak di temukan gimana nh min??? Dan untuk smk di tambah dong!!!!   -1.0\n",
              "4   hai quipper video 😊 , saya ingin memberi masukan, lebih baik video yang sudah di unduh dan di si...   -1.0\n",
              "5   Mohon diperbaiki, setelah diupdate konten soal terkadang tidak bisa diunduh dengan sempurna kemu...   -1.0\n",
              "6   Tambahin fitur tany Guru dong biar lebih paham lagi. Tapi semuanya udah bagus. Yang bilang jelek...   -1.0\n",
              "7   Masa gak ada pembahasan soal un materi buat un juga tidak ada , aneh sekali , banyak soal yang s...   -1.0\n",
              "8   Gimana cari maga pelajaran yang pangen ditanya. Dan kenapa malah UN 2013 GAK ADA UN 2017 or 2016...   -1.0\n",
              "9   Quipper itu seperti aplikasi les belajar buat di rumah atau dimanapun dari hp, wajar saja kalau ...   -1.0\n",
              "10  Setelah saya update quipper, saya pengguna quipper video yang ingin belajar matematika selalu bi...   -1.0\n",
              "11                                 Ga bisa daftar lewat Facebook ! Payah dasar, tolong di perbaiki lagi   -1.0\n",
              "12  Quipper video sngt membantu dlm bljr, over all saya suka bngt sm app ini. Cma, tolong taskbook n...   -1.0\n",
              "13                                    Masih ada beberapa konten yg perlu ditambah materi2 baruvmisalnya    1.0\n",
              "14                                                    Kok aku daftar gak bisa sih... Tolong di perbaiki   -1.0\n",
              "15                                                    Bagus sekali karena sangat membantu ealam belajar   -1.0\n",
              "16                                              Kalo gaada kuota masih bisa nonton video di quipper ga?   -1.0\n",
              "17  Aplikasi ini cukup baguuss, karena di aplikasi ini bisa membantu kalian para pelajar yg kurang m...   -1.0\n",
              "18                     aplikasi ga bagus padahal.udh login.tapi selalu.ga masuk buka beranda aja ga isa   -1.0\n",
              "19                                              Keren banget jadi kalo ada ulangan ga usah khawatir deh   -1.0\n",
              "20                                   Aku baru download aja udah senang kali apa lagi kalau udah di coba   -1.0\n",
              "21                                                Saya belum dapat kode kelas untuk kelas 7 ,agak rugi.   -1.0\n",
              "22                                   Maksudnya masukan kode tuh apa? Terus minta sama siapa? Help mee.-   -1.0\n",
              "23    Knp quipper nya ga bsa kebuka?? Pdhl udh d install ulang?? Dstu bnyk tgs. Quipper ko skrg jelek??   -1.0\n",
              "24                                                                       Kode buat gabung kelas apa ya?   -1.0\n",
              "25                                                                            Saya kok g bisa masuk\" ya   -1.0\n",
              "26                                                                             Kok nggak bisa masuk sih   -1.0\n",
              "27                                                                                 Ka Ko Gabisa Masukk😂   -1.0\n",
              "28                                                                             Masa gk bisa masuk najis   -1.0\n",
              "29                                                                            Knp ngk ad untuk sd kls 6   -1.0\n",
              "30                                                   Tolong di perbarui untuk tahun pelajaran yang baru   -1.0\n",
              "31                                                                                 Aku suka banget ihhh    1.0\n",
              "32                                                              Gimana ubah photo profilnya? tolong ya!   -1.0\n",
              "33                                                                              Materinya ditambah dong    1.0\n",
              "34                                                         Cara buat login dan buat pembayarannya gmna?   -1.0\n",
              "35                                                                                 ga bisa daftar bhaks   -1.0\n",
              "36                                                                      Quipper ini sangat membantu aku    1.0\n",
              "37                                                                           Kode kelas gimana isinya ?   -1.0\n",
              "38                                                                       Insya allah tidak mengecewakan   -1.0\n",
              "39                                                                           Bagus untuk guru dan murid   -1.0\n",
              "40                                                              lah kok ngga bisa daftar???? payahhhhhh    1.0\n",
              "41                                                                                   Kode kelasnya apa?   -1.0\n",
              "42                                                                                         Loadnya lama   -1.0\n",
              "43                                                                                 Sangat membingungkan   -1.0\n",
              "44                                                                                        Mlebune mulek    1.0\n",
              "45                                                                                          Lebih bagus   -1.0\n",
              "46                                                                         Aplikasi ini berbayar ya ???    1.0\n",
              "47                                                                                               Keren😆   -1.0\n",
              "48                                                                                         Lumayan juga   -1.0\n",
              "49  Waktubitu saya donload tapi saat saya buka nama sekolah sy tdk ada dan harga paket mahal tolong ...   -1.0\n",
              "50  Yahh gk bisa buka quiper vidionya deh pake duit bukanya dan paling orang tuaku gk bolehin :'( gk...   -1.0\n",
              "51  Untuk soal yang tidak bisa dibuka di app (harus di web) tolong untuk tetap bisa mendownload vide...   -1.0\n",
              "52                              Kak sekolah saya g ada jd bingung daftarnya. MTsN 1 Bandar Kidul Kediri   -1.0\n",
              "53                    Ini kode kelasnya maksutnya gimana ya? Sudah saya masukkan kodenya tapi gak bisa!   -1.0\n",
              "54  Bukanya belajar Mala buang buang waktu buat daftar, sudah berkali-kali di coba daftar tetap aja ...   -1.0\n",
              "55  Menurut saya paket harganya itu kemahalan deh.. jd blm tentu dibolehin sm ortu .. jd mohon paket...   -1.0\n",
              "56                         Gak jelas Maksudnya apa sh Kok ada kode kelas2.... Ngga tau deh Jadi bingung   -1.0\n",
              "57                                                            Aku lihat dulu aja ah aku kan br doenload   -1.0\n",
              "58  Kok setelah di perbarui aku coba download videonya gak bisa2 sih ? Padahal kualitas jaringannya ...   -1.0\n",
              "59  Mending Punya App ini cuma bayar 1juta, udah lengkap. Ini sama seperti les online bahkan sekolah...   -1.0\n",
              "60                                        sangat membantu sekali dalam belajar terima kasih quipper ^_^    1.0\n",
              "61                                                          Top dah buat quipper Ga nyesel langganan 😂👍    1.0\n",
              "62  Jelek banget!!! Udah berulang kali download tapi ttp aja sama ,,ga bisa daftarin,,,padahal semua...   -1.0\n",
              "63                                    Maksudnya sandi itu apa sih harus diisi apa tolong beri tahu saya   -1.0\n",
              "64                                           Ga bisa daftar log in pake FB juga ga bisa tolong perbaiki   -1.0\n",
              "65      Thanks quipper belajar ku jadi terbantu sejak ada aplikasi quipper thanks pokonya membantu bngt   -1.0\n",
              "66                                                               Ka susah daftarnya,gimana tolong bantu   -1.0\n",
              "67                             Sekolah saya kok gak ada ya.. SMK Grafika Mardi Yuana Bogor jurusan DKV?   -1.0\n",
              "68                                                                  Gimana dong aku kan gak punya email   -1.0\n",
              "69                                      Tolong beritahu cara menggunakan aplikasinya masih kurang laham    1.0\n",
              "70                Ko saya tidak bisa mendaftar ya padahal saya sudah masukan smua peraturan dgn benar..   -1.0\n",
              "71  Banyak yang harus dibuka lewat web. Apa gunanya ada aplikasi tapi harus dibuka lewat web. Saya a...   -1.0\n",
              "72                                                   Ndk rugi bayar mahal,hasil nya aku dpat rengking 1   -1.0\n",
              "73                                                                          The aplication is very well   -1.0\n",
              "74                                      Kenapa waktu itu saya tidak bisa unduh video quipper pakai wifi   -1.0\n",
              "75                                           Bagaimana cara mendapatkan kode kelas baruh?Bisah dibantu?   -1.0\n",
              "76  Lumayan siihh.. Tapi kok, ada kode kelas segala macem ya?? Aku gl ngerti.. Guru aku gk ngasih ta...   -1.0\n",
              "77                                    Hambuh rak ngerti ,ono kode kelas ig maksute pye to ra mudeng..😡😣   -1.0\n",
              "78                              Kenapa pas sementara lagi daftar quipper nya engga jadi pas lagi daftar   -1.0\n",
              "79                                                                                   Gak bisa di pake .   -1.0\n",
              "80                                                                     Kok ngak ada nama sekolah aku ya   -1.0\n",
              "81                                                             Mau nanya dong kok aku gk bsa daftar ya?   -1.0\n",
              "82                                                                     Semoga lebih maju lagi Quipper 😊   -1.0\n",
              "83                                                                   Bagus,jadi enak ngerjain tugas nya   -1.0\n",
              "84                                                                     Kalau pindah bab gimana caranya?   -1.0\n",
              "85                                                                                      Susah daftar ny   -1.0\n",
              "86                                                                Terima kasih , atas bantuanya Quipper    1.0\n",
              "87                                                                   Seharusnya ada soal untuk sd juga!   -1.0\n",
              "88                                                                 Gimana cara masukan kode kelasnya..?   -1.0\n",
              "89                                                                  Mengapa materi biologi tidak adaa!?   -1.0\n",
              "90                                                          I like this application. Easier to learn 😋😋   -1.0\n",
              "91                                                                                Kode kelas nya gimana   -1.0\n",
              "92                                                                  saat saya mendaftar,kok tidak bisa?   -1.0\n",
              "93                                                                            Cacat quiper vidio gembel    1.0\n",
              "94                                                                         Gak bisa buat SD ya? Hmmm...   -1.0\n",
              "95                                                                            Bikin belajar lebih mudah   -1.0\n",
              "96                                                                          Jawaban bener kok disalahin    1.0\n",
              "97                                               Kak kok mahal sih... tolong murah in yyyyy.... plissss   -1.0"
            ]
          },
          "metadata": {
            "tags": []
          },
          "execution_count": 44
        }
      ]
    },
    {
      "cell_type": "code",
      "metadata": {
        "id": "xo7qOYKl4ol4"
      },
      "source": [
        "neg = new_data[new_data['label']==-1].count()[0]\n",
        "pos = new_data[new_data['label']==1].count()[0]"
      ],
      "execution_count": null,
      "outputs": []
    },
    {
      "cell_type": "code",
      "metadata": {
        "colab": {
          "base_uri": "https://localhost:8080/",
          "height": 315
        },
        "id": "A4ydJEL841BH",
        "outputId": "63aa2939-5f32-43d3-e012-148ee5e75c7b"
      },
      "source": [
        "labels = ['Positive','Negative']\n",
        "Category1 = [str(pos),str(neg)]\n",
        "plt.pie(Category1, labels=labels, autopct='%1.2f%%', colors=['coral', 'c'])\n",
        "plt.xlabel('Kelas Sentimen')\n",
        "plt.ylabel('Data')\n",
        "plt.title('Diagram Lingkaran Data Analisis Sentimen')"
      ],
      "execution_count": null,
      "outputs": [
        {
          "output_type": "execute_result",
          "data": {
            "text/plain": [
              "Text(0.5, 1.0, 'Diagram Lingkaran Data Analisis Sentimen')"
            ]
          },
          "metadata": {
            "tags": []
          },
          "execution_count": 46
        },
        {
          "output_type": "display_data",
          "data": {
            "image/png": "[encoded data removed]",
            "text/plain": [
              "<Figure size 432x288 with 1 Axes>"
            ]
          },
          "metadata": {
            "tags": []
          }
        }
      ]
    }
  ]
}