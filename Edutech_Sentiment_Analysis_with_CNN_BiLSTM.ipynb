{
  "nbformat": 4,
  "nbformat_minor": 0,
  "metadata": {
    "colab": {
      "name": "Edutech Sentiment Analysis with CNN-BiLSTM.ipynb",
      "provenance": [],
      "authorship_tag": "ABX9TyOFtZVOxgXWS6NQwQxOdT+G",
      "include_colab_link": true
    },
    "kernelspec": {
      "name": "python3",
      "display_name": "Python 3"
    },
    "language_info": {
      "name": "python"
    }
  },
  "cells": [
    {
      "cell_type": "markdown",
      "metadata": {
        "id": "view-in-github",
        "colab_type": "text"
      },
      "source": [
        "<a href=\"https://colab.research.google.com/github/listakurniawati/Sentiment-Analysis-with-CNN-BiLSTM/blob/main/Edutech_Sentiment_Analysis_with_CNN_BiLSTM.ipynb\" target=\"_parent\"><img src=\"https://colab.research.google.com/assets/colab-badge.svg\" alt=\"Open In Colab\"/></a>"
      ]
    },
    {
      "cell_type": "markdown",
      "metadata": {
        "id": "SivYJTU0eSMT"
      },
      "source": [
        "# **Inisialisasi**"
      ]
    },
    {
      "cell_type": "code",
      "metadata": {
        "colab": {
          "base_uri": "https://localhost:8080/"
        },
        "id": "TNV8eNGDUFPW",
        "outputId": "b737aa9b-06e9-444e-91f7-ad46bbdb9684"
      },
      "source": [
        "pip install google-play-scraper"
      ],
      "execution_count": 9,
      "outputs": [
        {
          "output_type": "stream",
          "text": [
            "Collecting google-play-scraper\n",
            "\u001b[?25l  Downloading https://files.pythonhosted.org/packages/1d/4c/55f501b3e41b4508f622f79ca2ea385b84bfe88f5e4b9a626cbdcab87496/google-play-scraper-0.2.1.tar.gz (49kB)\n",
            "\r\u001b[K     |██████▋                         | 10kB 14.4MB/s eta 0:00:01\r\u001b[K     |█████████████▎                  | 20kB 19.6MB/s eta 0:00:01\r\u001b[K     |████████████████████            | 30kB 11.1MB/s eta 0:00:01\r\u001b[K     |██████████████████████████▌     | 40kB 8.8MB/s eta 0:00:01\r\u001b[K     |████████████████████████████████| 51kB 3.2MB/s \n",
            "\u001b[?25hBuilding wheels for collected packages: google-play-scraper\n",
            "  Building wheel for google-play-scraper (setup.py) ... \u001b[?25l\u001b[?25hdone\n",
            "  Created wheel for google-play-scraper: filename=google_play_scraper-0.2.1-cp37-none-any.whl size=22199 sha256=ce4ec1e4feca7ba5b5ac6069d7c444393fc7e48c2930cb6734bd620e4063b272\n",
            "  Stored in directory: /root/.cache/pip/wheels/9a/fe/59/aaed9c7885041da68908f5e45f2796bf77696ac83874afd02c\n",
            "Successfully built google-play-scraper\n",
            "Installing collected packages: google-play-scraper\n",
            "Successfully installed google-play-scraper-0.2.1\n"
          ],
          "name": "stdout"
        }
      ]
    },
    {
      "cell_type": "code",
      "metadata": {
        "id": "xKXElBkZZohp"
      },
      "source": [
        "import pandas as pd\n",
        "from google_play_scraper import app, Sort, reviews_all\n",
        "import numpy as np\n",
        "import re\n",
        "from sklearn.model_selection import train_test_split\n",
        "import tensorflow as tf\n",
        "import keras"
      ],
      "execution_count": 131,
      "outputs": []
    },
    {
      "cell_type": "markdown",
      "metadata": {
        "id": "yq_jbFMXdw-U"
      },
      "source": [
        "# **Scraping Review RuangGuru**"
      ]
    },
    {
      "cell_type": "code",
      "metadata": {
        "colab": {
          "base_uri": "https://localhost:8080/"
        },
        "id": "RuRJnkOmdw-V",
        "outputId": "411e95e7-14d6-48a4-9a9c-35e624667bc2"
      },
      "source": [
        "ruangguru = app(\n",
        "    'com.ruangguru.livestudents',\n",
        "    lang='id', # defaults to ''\n",
        "    country='id' # defaults to 'id'\n",
        ")\n",
        "\n",
        "print(ruangguru)"
      ],
      "execution_count": 30,
      "outputs": [
        {
          "output_type": "stream",
          "text": [
            "{'title': 'Ruangguru - Super App Belajar', 'description': 'Ruangguru merupakan bimbingan belajar online di Indonesia dengan solusi terlengkap hanya dalam satu aplikasi!\\r\\n\\r\\nMulai dari video belajar, latihan soal, les privat, tryout, semua dapat diakses melalui smartphone. Kontennya tersedia untuk berbagai jenjang mulai dari SD, SMP hingga SMA sesuai dengan kurikulum nasional dan dirancang khusus oleh pengajar terbaik dan berpengalaman.\\r\\n\\r\\n\\r\\n- ruangbelajar\\r\\nBimbel online untuk belajar di mana saja dan kapan saja dengan puluhan ribu video beranimasi, ratusan ribu latihan soal, dan rangkuman berinfografis yang dipersiapkan dan diajarkan oleh Master Teacher terbaik.\\r\\n\\r\\nFitur-fitur ruangbelajar: \\r\\n1) Video Belajar Beranimasi\\r\\nTonton puluhan ribu video belajar beranimasi yang diajarkan oleh Master Teacher terbaik. Video juga bisa di-download supaya kamu bisa tonton berulang-ulang tanpa kuota. \\r\\n\\r\\n2) Latihan Soal dan Pembahasan\\r\\nPertajam pemahamanmu lewat lebih dari ratusan ribu latihan soal dan pembahasan dari berbagai tingkat kesulitan (termasuk HOTS). Nilai langsung keluar dan ada pembahasannya juga lho!\\r\\n\\r\\n3) Rangkuman Berinfografis\\r\\nRangkuman dari setiap materi disajikan menarik secara visual dan dapat diunduh sebagai bahan untuk belajar.\\r\\n\\r\\n4) ruangbelajar for Desktop\\r\\nSelain lewat smartphone, dapat diakses juga di komputer kamu!\\r\\n\\r\\n\\r\\nBelajar makin seru bersama Ruangguru!\\r\\n• Smart Recommendation\\r\\nSecara otomatis mendeteksi kelemahanmu dan merekomendasikan materi belajar yang sesuai dengan kebutuhanmu. Belajar menjadi jauh lebih efektif dan efisien!\\r\\n\\r\\n• Ruangguru Adventure\\r\\nAyo berlomba untuk mengumpulkan poin dengan cara menonton video dan mengerjakan soal sebanyak-banyaknya! Tukarkan poin dengan beragam digital items menarik!\\r\\n\\r\\n• Social Learning\\r\\nBerinteraksi dan berdiskusi mengenai pelajaran sekolah dengan pengguna lainnya di dalam aplikasi! Kamu juga bisa berinteraksi dengan guru lewat pengajaran langsung yang dapat disaksikan di dalam aplikasi. \\r\\n\\r\\n\\r\\nLebih interaktif dengan guru terbaik Ruangguru!\\r\\n- ruangbelajar Plus\\r\\nBelajar intensif bersama tutor standby melalui grup chat dengan teman belajar se-Indonesia\\r\\n\\r\\n- ruangles\\r\\nTingkatkan kemampuanmu lewat belajar privat dengan guru terbaik di bidangnya pilihan Ruangguru\\r\\n\\r\\n- Brain Academy\\r\\nBimbel yang beda, dengan adanya kombinasi bimbel offline dan online dengan guru terbaik\\r\\n\\r\\n- ruanglesonline\\r\\nKonsultasi via live chat dengan tutor terbaik yang akan membantu kamu membahas semua pertanyaanmu dalam hitungan menit', 'descriptionHTML': 'Ruangguru merupakan bimbingan belajar online di Indonesia dengan solusi terlengkap hanya dalam satu aplikasi!<br><br>Mulai dari video belajar, latihan soal, les privat, tryout, semua dapat diakses melalui smartphone. Kontennya tersedia untuk berbagai jenjang mulai dari SD, SMP hingga SMA sesuai dengan kurikulum nasional dan dirancang khusus oleh pengajar terbaik dan berpengalaman.<br><br><br>- ruangbelajar<br>Bimbel online untuk belajar di mana saja dan kapan saja dengan puluhan ribu video beranimasi, ratusan ribu latihan soal, dan rangkuman berinfografis yang dipersiapkan dan diajarkan oleh Master Teacher terbaik.<br><br>Fitur-fitur ruangbelajar: <br>1) Video Belajar Beranimasi<br>Tonton puluhan ribu video belajar beranimasi yang diajarkan oleh Master Teacher terbaik. Video juga bisa di-download supaya kamu bisa tonton berulang-ulang tanpa kuota. <br><br>2) Latihan Soal dan Pembahasan<br>Pertajam pemahamanmu lewat lebih dari ratusan ribu latihan soal dan pembahasan dari berbagai tingkat kesulitan (termasuk HOTS). Nilai langsung keluar dan ada pembahasannya juga lho!<br><br>3) Rangkuman Berinfografis<br>Rangkuman dari setiap materi disajikan menarik secara visual dan dapat diunduh sebagai bahan untuk belajar.<br><br>4) ruangbelajar for Desktop<br>Selain lewat smartphone, dapat diakses juga di komputer kamu!<br><br><br>Belajar makin seru bersama Ruangguru!<br>• Smart Recommendation<br>Secara otomatis mendeteksi kelemahanmu dan merekomendasikan materi belajar yang sesuai dengan kebutuhanmu. Belajar menjadi jauh lebih efektif dan efisien!<br><br>• Ruangguru Adventure<br>Ayo berlomba untuk mengumpulkan poin dengan cara menonton video dan mengerjakan soal sebanyak-banyaknya! Tukarkan poin dengan beragam digital items menarik!<br><br>• Social Learning<br>Berinteraksi dan berdiskusi mengenai pelajaran sekolah dengan pengguna lainnya di dalam aplikasi! Kamu juga bisa berinteraksi dengan guru lewat pengajaran langsung yang dapat disaksikan di dalam aplikasi. <br><br><br>Lebih interaktif dengan guru terbaik Ruangguru!<br>- ruangbelajar Plus<br>Belajar intensif bersama tutor standby melalui grup chat dengan teman belajar se-Indonesia<br><br>- ruangles<br>Tingkatkan kemampuanmu lewat belajar privat dengan guru terbaik di bidangnya pilihan Ruangguru<br><br>- Brain Academy<br>Bimbel yang beda, dengan adanya kombinasi bimbel offline dan online dengan guru terbaik<br><br>- ruanglesonline<br>Konsultasi via live chat dengan tutor terbaik yang akan membantu kamu membahas semua pertanyaanmu dalam hitungan menit', 'summary': 'Belajar super lengkap, super canggih, super murah!', 'summaryHTML': 'Belajar super lengkap, super canggih, super murah!', 'installs': '10.000.000+', 'minInstalls': 10000000, 'score': 4.6395874, 'ratings': 605327, 'reviews': 302100, 'histogram': [34240, 7924, 13941, 29548, 519674], 'price': 0, 'free': True, 'currency': 'USD', 'sale': False, 'saleTime': None, 'originalPrice': None, 'saleText': None, 'offersIAP': False, 'inAppProductPrice': None, 'size': '59M', 'androidVersion': '4.1', 'androidVersionText': '4.1 dan yang lebih tinggi', 'developer': 'ruangguru.com', 'developerId': 'ruangguru.com', 'developerEmail': 'info@ruangguru.com', 'developerWebsite': 'http://ruangguru.com', 'developerAddress': 'Jl. Tebet Barat Dalam Raya No.22,\\nKecamatan Tebet,\\nKota Jakarta Selatan,\\nDaerah Khusus Ibukota Jakarta,\\n12810\\nIndonesia', 'privacyPolicy': 'https://ruangguru.com/other/privacy-policy/policy', 'developerInternalID': '6784627491864846493', 'genre': 'Pendidikan', 'genreId': 'EDUCATION', 'icon': 'https://play-lh.googleusercontent.com/L7LE72GGERzpHXhOFoAXM7SnGERv4BICfg1PcvVi1D_8907J_ltY4O6l5T8A5WuCgQg', 'headerImage': 'https://play-lh.googleusercontent.com/IXB26BwvXKXENsJFzHnqJBvwHDGqAIS0_zuIm41URIvOIFsBa-xEsaHFhz1sRhMA7EU', 'screenshots': ['https://play-lh.googleusercontent.com/4DHozKkMmBcrvSFFn1Moh-_NK3yJuAes3qDNvmZ6QpF5EuR-Zw10aEhQtnQkSDkZmweW', 'https://play-lh.googleusercontent.com/us9dzrt4v9wK7qTOcuXVO-EEY9EYH5ecTF6Arll2jsQsqwTt6SY8Mn-f2LMJqIPUQA', 'https://play-lh.googleusercontent.com/k3PuTCkc6NaGs7kt1r92cm_bI84hEGyvC_bOg8evguL_JHtGB2CNhib-4h26N_7Xa9I', 'https://play-lh.googleusercontent.com/bjSs-XAtIOxjhgkWhvpxJBezYji0vgYssOXVh6Gci4Dbjg3OXUGEfcei2IGTCapia-Y', 'https://play-lh.googleusercontent.com/qCngDPGnuvIaqvpjyvR9sc_4yTIJeyRfMABtLjg4Ypgcgin8j0BPv8p5hfBnElNJ5Vdv', 'https://play-lh.googleusercontent.com/D7fRlfTVO-L7FTwWtrwJ0L9B2bDK0njKr4x1w13d_ZYy8TZHwlaXdtfmYaakHRYEtiDk', 'https://play-lh.googleusercontent.com/pqP3_MhwraZ4Z4jnE-jhStNdG2hdGdih8pcLa30DFj0KRQBQGXb2HDyPTgw1IYy1Tg', 'https://play-lh.googleusercontent.com/Ghj6VHX2Tfcb-VZ9C8HozFh5QIajFlgYSxHG-2HThf6UZB6Ns_XAmXv6vuwIcV721Q'], 'video': 'https://www.youtube.com/embed/e-8M2UHu7Io?ps=play&vq=large&rel=0&autohide=1&showinfo=0', 'videoImage': 'https://i.ytimg.com/vi/e-8M2UHu7Io/hqdefault.jpg', 'contentRating': 'Rating 3+', 'contentRatingDescription': None, 'adSupported': None, 'containsAds': False, 'released': '21 Feb 2016', 'updated': 1620478170, 'version': '6.15.0', 'recentChanges': 'Buka puasa makan ketupat\\r\\nDilanjut makan bakwan\\r\\nUntuk kamu Ruangguru Squad\\r\\nAda update baru kawan\\r\\n\\r\\nDi kelas Brain Academy, kamu bisa melihat peringkat lewat Leaderboard Quiz. Seru kan? Yuk ikuti keseruan kelas langsung interaktifnya! \\r\\n\\r\\nJangan lupa tekan tombol updatenya yaa~', 'recentChangesHTML': 'Buka puasa makan ketupat<br>Dilanjut makan bakwan<br>Untuk kamu Ruangguru Squad<br>Ada update baru kawan<br><br>Di kelas Brain Academy, kamu bisa melihat peringkat lewat Leaderboard Quiz. Seru kan? Yuk ikuti keseruan kelas langsung interaktifnya! <br><br>Jangan lupa tekan tombol updatenya yaa~', 'comments': [], 'editorsChoice': False, 'appId': 'com.ruangguru.livestudents', 'url': 'https://play.google.com/store/apps/details?id=com.ruangguru.livestudents&hl=id&gl=id'}\n"
          ],
          "name": "stdout"
        }
      ]
    },
    {
      "cell_type": "code",
      "metadata": {
        "colab": {
          "base_uri": "https://localhost:8080/"
        },
        "id": "aaze5Iw6dw-X",
        "outputId": "d069318f-22ae-43e9-e9b3-2aceb26168bf"
      },
      "source": [
        "from google_play_scraper import Sort, reviews_all\n",
        "\n",
        "result_rg = reviews_all(\n",
        "    'com.ruangguru.livestudents',\n",
        "    sleep_milliseconds=0, # defaults to 0\n",
        "    lang='id', # defaults to 'id'\n",
        "    country='id', # defaults to 'id'\n",
        "    sort=Sort.MOST_RELEVANT, # defaults to Sort.MOST_RELEVANT\n",
        "    count=1000,\n",
        "    filter_score_with=5 # defaults to None(means all score)\n",
        ")\n",
        "\n",
        "print(result_rg)"
      ],
      "execution_count": 92,
      "outputs": [
        {
          "output_type": "stream",
          "text": [
            "IOPub data rate exceeded.\n",
            "The notebook server will temporarily stop sending output\n",
            "to the client in order to avoid crashing it.\n",
            "To change this limit, set the config variable\n",
            "`--NotebookApp.iopub_data_rate_limit`.\n",
            "\n",
            "Current values:\n",
            "NotebookApp.iopub_data_rate_limit=1000000.0 (bytes/sec)\n",
            "NotebookApp.rate_limit_window=3.0 (secs)\n",
            "\n"
          ],
          "name": "stderr"
        }
      ]
    },
    {
      "cell_type": "code",
      "metadata": {
        "colab": {
          "base_uri": "https://localhost:8080/"
        },
        "id": "mYbYznesdw-Y",
        "outputId": "26129223-b18c-4500-b840-562031a3ee66"
      },
      "source": [
        "type(result_rg)"
      ],
      "execution_count": 93,
      "outputs": [
        {
          "output_type": "execute_result",
          "data": {
            "text/plain": [
              "list"
            ]
          },
          "metadata": {
            "tags": []
          },
          "execution_count": 93
        }
      ]
    },
    {
      "cell_type": "code",
      "metadata": {
        "colab": {
          "base_uri": "https://localhost:8080/",
          "height": 1000
        },
        "id": "p9E-BScqdw-Y",
        "outputId": "e26d7e6e-e2a6-4eec-86ae-5e59618c6cb0"
      },
      "source": [
        "df_rg = pd.DataFrame(result_rg)\n",
        "df_rg"
      ],
      "execution_count": 94,
      "outputs": [
        {
          "output_type": "execute_result",
          "data": {
            "text/html": [
              "<div>\n",
              "<style scoped>\n",
              "    .dataframe tbody tr th:only-of-type {\n",
              "        vertical-align: middle;\n",
              "    }\n",
              "\n",
              "    .dataframe tbody tr th {\n",
              "        vertical-align: top;\n",
              "    }\n",
              "\n",
              "    .dataframe thead th {\n",
              "        text-align: right;\n",
              "    }\n",
              "</style>\n",
              "<table border=\"1\" class=\"dataframe\">\n",
              "  <thead>\n",
              "    <tr style=\"text-align: right;\">\n",
              "      <th></th>\n",
              "      <th>reviewId</th>\n",
              "      <th>userName</th>\n",
              "      <th>userImage</th>\n",
              "      <th>content</th>\n",
              "      <th>score</th>\n",
              "      <th>thumbsUpCount</th>\n",
              "      <th>reviewCreatedVersion</th>\n",
              "      <th>at</th>\n",
              "      <th>replyContent</th>\n",
              "      <th>repliedAt</th>\n",
              "    </tr>\n",
              "  </thead>\n",
              "  <tbody>\n",
              "    <tr>\n",
              "      <th>0</th>\n",
              "      <td>gp:AOqpTOHY5XJCb05adZhMms6tcIFYtloxHGamttMuXJf...</td>\n",
              "      <td>Joni Raditiya</td>\n",
              "      <td>https://play-lh.googleusercontent.com/a-/AOh14...</td>\n",
              "      <td>Dulu kalo gak salah rating ruangguru di playst...</td>\n",
              "      <td>5</td>\n",
              "      <td>44</td>\n",
              "      <td>6.15.0</td>\n",
              "      <td>2021-05-21 14:29:44</td>\n",
              "      <td>Hai Joni, terima kasih sudah memberikan bintan...</td>\n",
              "      <td>2021-05-25 12:48:24</td>\n",
              "    </tr>\n",
              "    <tr>\n",
              "      <th>1</th>\n",
              "      <td>gp:AOqpTOGr9j6MSZ53_4c6VXvFeSQvkgHmcUmwEhGRXPs...</td>\n",
              "      <td>Muhammad Farel alhasbi</td>\n",
              "      <td>https://play-lh.googleusercontent.com/a/AATXAJ...</td>\n",
              "      <td>App nya bagus and funny, vdeo yg beranimasi mm...</td>\n",
              "      <td>5</td>\n",
              "      <td>13</td>\n",
              "      <td>6.15.0</td>\n",
              "      <td>2021-05-13 12:49:40</td>\n",
              "      <td>Hai Farel, terima kasih telah memberikan binta...</td>\n",
              "      <td>2021-04-20 04:16:12</td>\n",
              "    </tr>\n",
              "    <tr>\n",
              "      <th>2</th>\n",
              "      <td>gp:AOqpTOHtM7R79TjW93_tPFNVY6wyhkI5cDBcTY04Tl0...</td>\n",
              "      <td>Henni Situmorang</td>\n",
              "      <td>https://play-lh.googleusercontent.com/a/AATXAJ...</td>\n",
              "      <td>Saya pengguna ruang guru ingin menyampaikan ka...</td>\n",
              "      <td>5</td>\n",
              "      <td>8</td>\n",
              "      <td>6.15.0</td>\n",
              "      <td>2021-05-14 10:10:34</td>\n",
              "      <td>Halo Henni, terima kasih untuk saran dan binta...</td>\n",
              "      <td>2021-05-15 03:49:06</td>\n",
              "    </tr>\n",
              "    <tr>\n",
              "      <th>3</th>\n",
              "      <td>gp:AOqpTOElszwyD3rUudKxoC6CppG-JAzqOJaNdupzdHp...</td>\n",
              "      <td>Fikram Masloman</td>\n",
              "      <td>https://play-lh.googleusercontent.com/a-/AOh14...</td>\n",
              "      <td>Pelayanan dalam memberikan informasi sangat me...</td>\n",
              "      <td>5</td>\n",
              "      <td>1</td>\n",
              "      <td>6.15.0</td>\n",
              "      <td>2021-05-21 09:41:42</td>\n",
              "      <td>Hai Fikram. Yeay! Senang sekali bila kamu puas...</td>\n",
              "      <td>2021-05-21 10:35:44</td>\n",
              "    </tr>\n",
              "    <tr>\n",
              "      <th>4</th>\n",
              "      <td>gp:AOqpTOGW62MchsyhsXnwpOtDUU2rAqKmdFEGp0dMeWD...</td>\n",
              "      <td>Ahmad Fathan Asadurrahman</td>\n",
              "      <td>https://play-lh.googleusercontent.com/a-/AOh14...</td>\n",
              "      <td>Aplikasinya bagus. Cocok banget untuk belajar....</td>\n",
              "      <td>5</td>\n",
              "      <td>1</td>\n",
              "      <td>6.15.0</td>\n",
              "      <td>2021-05-20 12:02:43</td>\n",
              "      <td>Halo, Fathan! Yeay, terima kasih untuk bintang...</td>\n",
              "      <td>2021-05-20 12:07:56</td>\n",
              "    </tr>\n",
              "    <tr>\n",
              "      <th>...</th>\n",
              "      <td>...</td>\n",
              "      <td>...</td>\n",
              "      <td>...</td>\n",
              "      <td>...</td>\n",
              "      <td>...</td>\n",
              "      <td>...</td>\n",
              "      <td>...</td>\n",
              "      <td>...</td>\n",
              "      <td>...</td>\n",
              "      <td>...</td>\n",
              "    </tr>\n",
              "    <tr>\n",
              "      <th>17706</th>\n",
              "      <td>gp:AOqpTOEvrb7qsuJwDpzOQpLyn40rxIzDrJXNdpwarZR...</td>\n",
              "      <td>Maria Ulfa</td>\n",
              "      <td>https://play-lh.googleusercontent.com/a/AATXAJ...</td>\n",
              "      <td>Saya mau tanya ke pihak RG,kenapa ngak ada pel...</td>\n",
              "      <td>5</td>\n",
              "      <td>71</td>\n",
              "      <td>4.7.7.rc</td>\n",
              "      <td>2019-11-02 09:24:07</td>\n",
              "      <td>Halo Maria, terima kasih sudah memberi review....</td>\n",
              "      <td>2019-11-14 07:18:40</td>\n",
              "    </tr>\n",
              "    <tr>\n",
              "      <th>17707</th>\n",
              "      <td>gp:AOqpTOFkE-THXbuoK2lfyunbDvsixjULPMPRWeclxxd...</td>\n",
              "      <td>Ami Azzahro</td>\n",
              "      <td>https://play-lh.googleusercontent.com/a/AATXAJ...</td>\n",
              "      <td>terima kasih dengan ada ruang guru belajar men...</td>\n",
              "      <td>5</td>\n",
              "      <td>0</td>\n",
              "      <td>3.3.0</td>\n",
              "      <td>2019-02-03 23:01:59</td>\n",
              "      <td>Hai Ami Azzahro,\\nTerimakasih atas review dan ...</td>\n",
              "      <td>2019-03-12 08:15:19</td>\n",
              "    </tr>\n",
              "    <tr>\n",
              "      <th>17708</th>\n",
              "      <td>gp:AOqpTOE47h8YFETYrfXUQyc5q3QaN4QoUuNXh0H-FAF...</td>\n",
              "      <td>Anisa Desy</td>\n",
              "      <td>https://play-lh.googleusercontent.com/a/AATXAJ...</td>\n",
              "      <td>Makasih buat ruangguru berkat ruangguru saya j...</td>\n",
              "      <td>5</td>\n",
              "      <td>0</td>\n",
              "      <td>4.6.4</td>\n",
              "      <td>2019-09-22 05:51:20</td>\n",
              "      <td>Hai Anisa. Terima kasih sudah belajar mengguna...</td>\n",
              "      <td>2019-09-22 06:08:50</td>\n",
              "    </tr>\n",
              "    <tr>\n",
              "      <th>17709</th>\n",
              "      <td>gp:AOqpTOH2bscZG2sEUc6IAtOPXzdMXjJIPu1fdYNLC0o...</td>\n",
              "      <td>Ahmad Fiqhi Fadli</td>\n",
              "      <td>https://play-lh.googleusercontent.com/a-/AOh14...</td>\n",
              "      <td>Aplikasi belajar yang sangat keren. Menghadirk...</td>\n",
              "      <td>5</td>\n",
              "      <td>4</td>\n",
              "      <td>4.1.3</td>\n",
              "      <td>2019-04-23 14:45:08</td>\n",
              "      <td>Mantap deh Ahmad, keren banget ulasanmu. Ruang...</td>\n",
              "      <td>2019-12-01 01:32:33</td>\n",
              "    </tr>\n",
              "    <tr>\n",
              "      <th>17710</th>\n",
              "      <td>gp:AOqpTOE7tojPcNB6fqF654C009buCPu_pl3EcyXrOp7...</td>\n",
              "      <td>Herni Angellika</td>\n",
              "      <td>https://play-lh.googleusercontent.com/a-/AOh14...</td>\n",
              "      <td>Sangat membantu dalam proses belajar, mungkin ...</td>\n",
              "      <td>5</td>\n",
              "      <td>0</td>\n",
              "      <td>4.7.3</td>\n",
              "      <td>2019-10-07 10:48:54</td>\n",
              "      <td>Hai Herni. Kami mengucapkan terima kasih sudah...</td>\n",
              "      <td>2019-10-07 11:02:15</td>\n",
              "    </tr>\n",
              "  </tbody>\n",
              "</table>\n",
              "<p>17711 rows × 10 columns</p>\n",
              "</div>"
            ],
            "text/plain": [
              "                                                reviewId  ...           repliedAt\n",
              "0      gp:AOqpTOHY5XJCb05adZhMms6tcIFYtloxHGamttMuXJf...  ... 2021-05-25 12:48:24\n",
              "1      gp:AOqpTOGr9j6MSZ53_4c6VXvFeSQvkgHmcUmwEhGRXPs...  ... 2021-04-20 04:16:12\n",
              "2      gp:AOqpTOHtM7R79TjW93_tPFNVY6wyhkI5cDBcTY04Tl0...  ... 2021-05-15 03:49:06\n",
              "3      gp:AOqpTOElszwyD3rUudKxoC6CppG-JAzqOJaNdupzdHp...  ... 2021-05-21 10:35:44\n",
              "4      gp:AOqpTOGW62MchsyhsXnwpOtDUU2rAqKmdFEGp0dMeWD...  ... 2021-05-20 12:07:56\n",
              "...                                                  ...  ...                 ...\n",
              "17706  gp:AOqpTOEvrb7qsuJwDpzOQpLyn40rxIzDrJXNdpwarZR...  ... 2019-11-14 07:18:40\n",
              "17707  gp:AOqpTOFkE-THXbuoK2lfyunbDvsixjULPMPRWeclxxd...  ... 2019-03-12 08:15:19\n",
              "17708  gp:AOqpTOE47h8YFETYrfXUQyc5q3QaN4QoUuNXh0H-FAF...  ... 2019-09-22 06:08:50\n",
              "17709  gp:AOqpTOH2bscZG2sEUc6IAtOPXzdMXjJIPu1fdYNLC0o...  ... 2019-12-01 01:32:33\n",
              "17710  gp:AOqpTOE7tojPcNB6fqF654C009buCPu_pl3EcyXrOp7...  ... 2019-10-07 11:02:15\n",
              "\n",
              "[17711 rows x 10 columns]"
            ]
          },
          "metadata": {
            "tags": []
          },
          "execution_count": 94
        }
      ]
    },
    {
      "cell_type": "code",
      "metadata": {
        "colab": {
          "base_uri": "https://localhost:8080/",
          "height": 399
        },
        "id": "-Hs-t33x1Qrw",
        "outputId": "25271736-a5b8-4e3d-a5b1-628b6e429747"
      },
      "source": [
        "rg_df = df_rg.drop(columns=['reviewId', 'userName', 'userImage', 'score', 'thumbsUpCount', 'reviewCreatedVersion', 'at', 'replyContent', 'repliedAt'])\n",
        "rg_dfs = df_rg.drop(columns=['reviewId', 'userName', 'userImage', 'thumbsUpCount', 'reviewCreatedVersion', 'at', 'replyContent', 'repliedAt'])\n",
        "rg_df"
      ],
      "execution_count": 147,
      "outputs": [
        {
          "output_type": "execute_result",
          "data": {
            "text/html": [
              "<div>\n",
              "<style scoped>\n",
              "    .dataframe tbody tr th:only-of-type {\n",
              "        vertical-align: middle;\n",
              "    }\n",
              "\n",
              "    .dataframe tbody tr th {\n",
              "        vertical-align: top;\n",
              "    }\n",
              "\n",
              "    .dataframe thead th {\n",
              "        text-align: right;\n",
              "    }\n",
              "</style>\n",
              "<table border=\"1\" class=\"dataframe\">\n",
              "  <thead>\n",
              "    <tr style=\"text-align: right;\">\n",
              "      <th></th>\n",
              "      <th>content</th>\n",
              "    </tr>\n",
              "  </thead>\n",
              "  <tbody>\n",
              "    <tr>\n",
              "      <th>0</th>\n",
              "      <td>Dulu kalo gak salah rating ruangguru di playst...</td>\n",
              "    </tr>\n",
              "    <tr>\n",
              "      <th>1</th>\n",
              "      <td>App nya bagus and funny, vdeo yg beranimasi mm...</td>\n",
              "    </tr>\n",
              "    <tr>\n",
              "      <th>2</th>\n",
              "      <td>Saya pengguna ruang guru ingin menyampaikan ka...</td>\n",
              "    </tr>\n",
              "    <tr>\n",
              "      <th>3</th>\n",
              "      <td>Pelayanan dalam memberikan informasi sangat me...</td>\n",
              "    </tr>\n",
              "    <tr>\n",
              "      <th>4</th>\n",
              "      <td>Aplikasinya bagus. Cocok banget untuk belajar....</td>\n",
              "    </tr>\n",
              "    <tr>\n",
              "      <th>...</th>\n",
              "      <td>...</td>\n",
              "    </tr>\n",
              "    <tr>\n",
              "      <th>17706</th>\n",
              "      <td>Saya mau tanya ke pihak RG,kenapa ngak ada pel...</td>\n",
              "    </tr>\n",
              "    <tr>\n",
              "      <th>17707</th>\n",
              "      <td>terima kasih dengan ada ruang guru belajar men...</td>\n",
              "    </tr>\n",
              "    <tr>\n",
              "      <th>17708</th>\n",
              "      <td>Makasih buat ruangguru berkat ruangguru saya j...</td>\n",
              "    </tr>\n",
              "    <tr>\n",
              "      <th>17709</th>\n",
              "      <td>Aplikasi belajar yang sangat keren. Menghadirk...</td>\n",
              "    </tr>\n",
              "    <tr>\n",
              "      <th>17710</th>\n",
              "      <td>Sangat membantu dalam proses belajar, mungkin ...</td>\n",
              "    </tr>\n",
              "  </tbody>\n",
              "</table>\n",
              "<p>17711 rows × 1 columns</p>\n",
              "</div>"
            ],
            "text/plain": [
              "                                                 content\n",
              "0      Dulu kalo gak salah rating ruangguru di playst...\n",
              "1      App nya bagus and funny, vdeo yg beranimasi mm...\n",
              "2      Saya pengguna ruang guru ingin menyampaikan ka...\n",
              "3      Pelayanan dalam memberikan informasi sangat me...\n",
              "4      Aplikasinya bagus. Cocok banget untuk belajar....\n",
              "...                                                  ...\n",
              "17706  Saya mau tanya ke pihak RG,kenapa ngak ada pel...\n",
              "17707  terima kasih dengan ada ruang guru belajar men...\n",
              "17708  Makasih buat ruangguru berkat ruangguru saya j...\n",
              "17709  Aplikasi belajar yang sangat keren. Menghadirk...\n",
              "17710  Sangat membantu dalam proses belajar, mungkin ...\n",
              "\n",
              "[17711 rows x 1 columns]"
            ]
          },
          "metadata": {
            "tags": []
          },
          "execution_count": 147
        }
      ]
    },
    {
      "cell_type": "code",
      "metadata": {
        "id": "v7v-mHl5x50p"
      },
      "source": [
        "rg_df.to_csv('/content/rg_review.csv')"
      ],
      "execution_count": 145,
      "outputs": []
    },
    {
      "cell_type": "code",
      "metadata": {
        "id": "UL3kIYnw8pzu"
      },
      "source": [
        "rg_dfs.to_csv('/content/rg_reviewscore.csv')"
      ],
      "execution_count": 148,
      "outputs": []
    },
    {
      "cell_type": "markdown",
      "metadata": {
        "id": "s3aYNTZ97hsA"
      },
      "source": [
        "# **Upload Data**"
      ]
    },
    {
      "cell_type": "code",
      "metadata": {
        "id": "VdmfJahS7klw"
      },
      "source": [
        "review = pd.read_csv('')"
      ],
      "execution_count": null,
      "outputs": []
    },
    {
      "cell_type": "markdown",
      "metadata": {
        "id": "vtwDcAI7p-2w"
      },
      "source": [
        "# ***Pre-processing***"
      ]
    },
    {
      "cell_type": "code",
      "metadata": {
        "id": "t3z8tm6dtP25"
      },
      "source": [
        "def clean_text(tweet):\n",
        "    \n",
        "    # Convert to lower case\n",
        "    tweet = tweet.lower()\n",
        "    # Clean www.* or https?://*\n",
        "    tweet = re.sub('((www\\.[^\\s]+)|(https?://[^\\s]+))','',tweet)\n",
        "    # Clean @username\n",
        "    tweet = re.sub('@[^\\s]+','',tweet)\n",
        "    #Remove additional white spaces\n",
        "    tweet = re.sub('[\\s]+', ' ', tweet)\n",
        "    #Replace #word with word\n",
        "    tweet = re.sub(r'#([^\\s]+)', r'\\1', tweet)\n",
        "    #trim\n",
        "    tweet = tweet.strip('\\'\"')\n",
        "    \n",
        "    # Clean per Words\n",
        "    words = tweet.split()\n",
        "    tokens=[]\n",
        "    for ww in words:\n",
        "        #split repeated word\n",
        "        for w in re.split(r'[-/\\s]\\s*', ww):\n",
        "            #replace two or more with two occurrences\n",
        "            pattern = re.compile(r\"(.)\\1{1,}\", re.DOTALL)\n",
        "            w = pattern.sub(r\"\\1\\1\", w)\n",
        "            #strip punctuation\n",
        "            w = w.strip('\\'\"?,.')\n",
        "            #check if the word cosists of two or more alphabets\n",
        "            val = re.search(r\"^[a-zA-Z][a-zA-Z][a-zA-Z]*$\", w)\n",
        "            #add tokens\n",
        "            if(w in stopwords or val is None):\n",
        "                continue\n",
        "            else:\n",
        "                tokens.append(w.lower())\n",
        "    \n",
        "    tweet = \" \".join(tokens)\n",
        "    return tweet"
      ],
      "execution_count": 132,
      "outputs": []
    }
  ]
}